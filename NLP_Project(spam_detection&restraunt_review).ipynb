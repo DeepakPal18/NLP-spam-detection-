{
  "nbformat": 4,
  "nbformat_minor": 0,
  "metadata": {
    "colab": {
      "provenance": []
    },
    "kernelspec": {
      "name": "python3",
      "display_name": "Python 3"
    },
    "language_info": {
      "name": "python"
    },
    "accelerator": "GPU",
    "gpuClass": "standard"
  },
  "cells": [
    {
      "cell_type": "markdown",
      "source": [
        "# Spam detection - "
      ],
      "metadata": {
        "id": "-_O4zwrJz-1N"
      }
    },
    {
      "cell_type": "code",
      "source": [
        "# import basix packages and dataset-\n",
        "import os , sys\n",
        "import numpy as np\n",
        "import pandas as pd\n",
        "import matplotlib.pyplot as plt\n",
        "import seaborn as sns\n",
        "import warnings\n",
        "warnings.filterwarnings('ignore')"
      ],
      "metadata": {
        "id": "PGYHyJKMzVFl"
      },
      "execution_count": null,
      "outputs": []
    },
    {
      "cell_type": "code",
      "source": [
        "from google.colab import files\n",
        "uploaded = files.upload()"
      ],
      "metadata": {
        "colab": {
          "base_uri": "https://localhost:8080/",
          "height": 73
        },
        "id": "Z5RVegbWzVIP",
        "outputId": "90d2ad50-b8d8-4fad-8b6f-86bfbbd6a4a8"
      },
      "execution_count": null,
      "outputs": [
        {
          "output_type": "display_data",
          "data": {
            "text/plain": [
              "<IPython.core.display.HTML object>"
            ],
            "text/html": [
              "\n",
              "     <input type=\"file\" id=\"files-50504f37-5dd5-4b2f-8515-43e52e285b94\" name=\"files[]\" multiple disabled\n",
              "        style=\"border:none\" />\n",
              "     <output id=\"result-50504f37-5dd5-4b2f-8515-43e52e285b94\">\n",
              "      Upload widget is only available when the cell has been executed in the\n",
              "      current browser session. Please rerun this cell to enable.\n",
              "      </output>\n",
              "      <script>// Copyright 2017 Google LLC\n",
              "//\n",
              "// Licensed under the Apache License, Version 2.0 (the \"License\");\n",
              "// you may not use this file except in compliance with the License.\n",
              "// You may obtain a copy of the License at\n",
              "//\n",
              "//      http://www.apache.org/licenses/LICENSE-2.0\n",
              "//\n",
              "// Unless required by applicable law or agreed to in writing, software\n",
              "// distributed under the License is distributed on an \"AS IS\" BASIS,\n",
              "// WITHOUT WARRANTIES OR CONDITIONS OF ANY KIND, either express or implied.\n",
              "// See the License for the specific language governing permissions and\n",
              "// limitations under the License.\n",
              "\n",
              "/**\n",
              " * @fileoverview Helpers for google.colab Python module.\n",
              " */\n",
              "(function(scope) {\n",
              "function span(text, styleAttributes = {}) {\n",
              "  const element = document.createElement('span');\n",
              "  element.textContent = text;\n",
              "  for (const key of Object.keys(styleAttributes)) {\n",
              "    element.style[key] = styleAttributes[key];\n",
              "  }\n",
              "  return element;\n",
              "}\n",
              "\n",
              "// Max number of bytes which will be uploaded at a time.\n",
              "const MAX_PAYLOAD_SIZE = 100 * 1024;\n",
              "\n",
              "function _uploadFiles(inputId, outputId) {\n",
              "  const steps = uploadFilesStep(inputId, outputId);\n",
              "  const outputElement = document.getElementById(outputId);\n",
              "  // Cache steps on the outputElement to make it available for the next call\n",
              "  // to uploadFilesContinue from Python.\n",
              "  outputElement.steps = steps;\n",
              "\n",
              "  return _uploadFilesContinue(outputId);\n",
              "}\n",
              "\n",
              "// This is roughly an async generator (not supported in the browser yet),\n",
              "// where there are multiple asynchronous steps and the Python side is going\n",
              "// to poll for completion of each step.\n",
              "// This uses a Promise to block the python side on completion of each step,\n",
              "// then passes the result of the previous step as the input to the next step.\n",
              "function _uploadFilesContinue(outputId) {\n",
              "  const outputElement = document.getElementById(outputId);\n",
              "  const steps = outputElement.steps;\n",
              "\n",
              "  const next = steps.next(outputElement.lastPromiseValue);\n",
              "  return Promise.resolve(next.value.promise).then((value) => {\n",
              "    // Cache the last promise value to make it available to the next\n",
              "    // step of the generator.\n",
              "    outputElement.lastPromiseValue = value;\n",
              "    return next.value.response;\n",
              "  });\n",
              "}\n",
              "\n",
              "/**\n",
              " * Generator function which is called between each async step of the upload\n",
              " * process.\n",
              " * @param {string} inputId Element ID of the input file picker element.\n",
              " * @param {string} outputId Element ID of the output display.\n",
              " * @return {!Iterable<!Object>} Iterable of next steps.\n",
              " */\n",
              "function* uploadFilesStep(inputId, outputId) {\n",
              "  const inputElement = document.getElementById(inputId);\n",
              "  inputElement.disabled = false;\n",
              "\n",
              "  const outputElement = document.getElementById(outputId);\n",
              "  outputElement.innerHTML = '';\n",
              "\n",
              "  const pickedPromise = new Promise((resolve) => {\n",
              "    inputElement.addEventListener('change', (e) => {\n",
              "      resolve(e.target.files);\n",
              "    });\n",
              "  });\n",
              "\n",
              "  const cancel = document.createElement('button');\n",
              "  inputElement.parentElement.appendChild(cancel);\n",
              "  cancel.textContent = 'Cancel upload';\n",
              "  const cancelPromise = new Promise((resolve) => {\n",
              "    cancel.onclick = () => {\n",
              "      resolve(null);\n",
              "    };\n",
              "  });\n",
              "\n",
              "  // Wait for the user to pick the files.\n",
              "  const files = yield {\n",
              "    promise: Promise.race([pickedPromise, cancelPromise]),\n",
              "    response: {\n",
              "      action: 'starting',\n",
              "    }\n",
              "  };\n",
              "\n",
              "  cancel.remove();\n",
              "\n",
              "  // Disable the input element since further picks are not allowed.\n",
              "  inputElement.disabled = true;\n",
              "\n",
              "  if (!files) {\n",
              "    return {\n",
              "      response: {\n",
              "        action: 'complete',\n",
              "      }\n",
              "    };\n",
              "  }\n",
              "\n",
              "  for (const file of files) {\n",
              "    const li = document.createElement('li');\n",
              "    li.append(span(file.name, {fontWeight: 'bold'}));\n",
              "    li.append(span(\n",
              "        `(${file.type || 'n/a'}) - ${file.size} bytes, ` +\n",
              "        `last modified: ${\n",
              "            file.lastModifiedDate ? file.lastModifiedDate.toLocaleDateString() :\n",
              "                                    'n/a'} - `));\n",
              "    const percent = span('0% done');\n",
              "    li.appendChild(percent);\n",
              "\n",
              "    outputElement.appendChild(li);\n",
              "\n",
              "    const fileDataPromise = new Promise((resolve) => {\n",
              "      const reader = new FileReader();\n",
              "      reader.onload = (e) => {\n",
              "        resolve(e.target.result);\n",
              "      };\n",
              "      reader.readAsArrayBuffer(file);\n",
              "    });\n",
              "    // Wait for the data to be ready.\n",
              "    let fileData = yield {\n",
              "      promise: fileDataPromise,\n",
              "      response: {\n",
              "        action: 'continue',\n",
              "      }\n",
              "    };\n",
              "\n",
              "    // Use a chunked sending to avoid message size limits. See b/62115660.\n",
              "    let position = 0;\n",
              "    do {\n",
              "      const length = Math.min(fileData.byteLength - position, MAX_PAYLOAD_SIZE);\n",
              "      const chunk = new Uint8Array(fileData, position, length);\n",
              "      position += length;\n",
              "\n",
              "      const base64 = btoa(String.fromCharCode.apply(null, chunk));\n",
              "      yield {\n",
              "        response: {\n",
              "          action: 'append',\n",
              "          file: file.name,\n",
              "          data: base64,\n",
              "        },\n",
              "      };\n",
              "\n",
              "      let percentDone = fileData.byteLength === 0 ?\n",
              "          100 :\n",
              "          Math.round((position / fileData.byteLength) * 100);\n",
              "      percent.textContent = `${percentDone}% done`;\n",
              "\n",
              "    } while (position < fileData.byteLength);\n",
              "  }\n",
              "\n",
              "  // All done.\n",
              "  yield {\n",
              "    response: {\n",
              "      action: 'complete',\n",
              "    }\n",
              "  };\n",
              "}\n",
              "\n",
              "scope.google = scope.google || {};\n",
              "scope.google.colab = scope.google.colab || {};\n",
              "scope.google.colab._files = {\n",
              "  _uploadFiles,\n",
              "  _uploadFilesContinue,\n",
              "};\n",
              "})(self);\n",
              "</script> "
            ]
          },
          "metadata": {}
        },
        {
          "output_type": "stream",
          "name": "stdout",
          "text": [
            "Saving spam.tsv to spam (2).tsv\n"
          ]
        }
      ]
    },
    {
      "cell_type": "code",
      "source": [
        "df = pd.read_csv('/content/spam.tsv',sep='\\t')\n",
        "df.head()"
      ],
      "metadata": {
        "colab": {
          "base_uri": "https://localhost:8080/",
          "height": 206
        },
        "id": "YLf9jqtKzVK5",
        "outputId": "9536c20b-46f5-408f-c1e4-d66fb68feeeb"
      },
      "execution_count": null,
      "outputs": [
        {
          "output_type": "execute_result",
          "data": {
            "text/plain": [
              "  label                                            message  length  punct\n",
              "0   ham  Go until jurong point, crazy.. Available only ...     111      9\n",
              "1   ham                      Ok lar... Joking wif u oni...      29      6\n",
              "2  spam  Free entry in 2 a wkly comp to win FA Cup fina...     155      6\n",
              "3   ham  U dun say so early hor... U c already then say...      49      6\n",
              "4   ham  Nah I don't think he goes to usf, he lives aro...      61      2"
            ],
            "text/html": [
              "\n",
              "  <div id=\"df-e501a771-ea94-486a-b3b8-b65825807371\">\n",
              "    <div class=\"colab-df-container\">\n",
              "      <div>\n",
              "<style scoped>\n",
              "    .dataframe tbody tr th:only-of-type {\n",
              "        vertical-align: middle;\n",
              "    }\n",
              "\n",
              "    .dataframe tbody tr th {\n",
              "        vertical-align: top;\n",
              "    }\n",
              "\n",
              "    .dataframe thead th {\n",
              "        text-align: right;\n",
              "    }\n",
              "</style>\n",
              "<table border=\"1\" class=\"dataframe\">\n",
              "  <thead>\n",
              "    <tr style=\"text-align: right;\">\n",
              "      <th></th>\n",
              "      <th>label</th>\n",
              "      <th>message</th>\n",
              "      <th>length</th>\n",
              "      <th>punct</th>\n",
              "    </tr>\n",
              "  </thead>\n",
              "  <tbody>\n",
              "    <tr>\n",
              "      <th>0</th>\n",
              "      <td>ham</td>\n",
              "      <td>Go until jurong point, crazy.. Available only ...</td>\n",
              "      <td>111</td>\n",
              "      <td>9</td>\n",
              "    </tr>\n",
              "    <tr>\n",
              "      <th>1</th>\n",
              "      <td>ham</td>\n",
              "      <td>Ok lar... Joking wif u oni...</td>\n",
              "      <td>29</td>\n",
              "      <td>6</td>\n",
              "    </tr>\n",
              "    <tr>\n",
              "      <th>2</th>\n",
              "      <td>spam</td>\n",
              "      <td>Free entry in 2 a wkly comp to win FA Cup fina...</td>\n",
              "      <td>155</td>\n",
              "      <td>6</td>\n",
              "    </tr>\n",
              "    <tr>\n",
              "      <th>3</th>\n",
              "      <td>ham</td>\n",
              "      <td>U dun say so early hor... U c already then say...</td>\n",
              "      <td>49</td>\n",
              "      <td>6</td>\n",
              "    </tr>\n",
              "    <tr>\n",
              "      <th>4</th>\n",
              "      <td>ham</td>\n",
              "      <td>Nah I don't think he goes to usf, he lives aro...</td>\n",
              "      <td>61</td>\n",
              "      <td>2</td>\n",
              "    </tr>\n",
              "  </tbody>\n",
              "</table>\n",
              "</div>\n",
              "      <button class=\"colab-df-convert\" onclick=\"convertToInteractive('df-e501a771-ea94-486a-b3b8-b65825807371')\"\n",
              "              title=\"Convert this dataframe to an interactive table.\"\n",
              "              style=\"display:none;\">\n",
              "        \n",
              "  <svg xmlns=\"http://www.w3.org/2000/svg\" height=\"24px\"viewBox=\"0 0 24 24\"\n",
              "       width=\"24px\">\n",
              "    <path d=\"M0 0h24v24H0V0z\" fill=\"none\"/>\n",
              "    <path d=\"M18.56 5.44l.94 2.06.94-2.06 2.06-.94-2.06-.94-.94-2.06-.94 2.06-2.06.94zm-11 1L8.5 8.5l.94-2.06 2.06-.94-2.06-.94L8.5 2.5l-.94 2.06-2.06.94zm10 10l.94 2.06.94-2.06 2.06-.94-2.06-.94-.94-2.06-.94 2.06-2.06.94z\"/><path d=\"M17.41 7.96l-1.37-1.37c-.4-.4-.92-.59-1.43-.59-.52 0-1.04.2-1.43.59L10.3 9.45l-7.72 7.72c-.78.78-.78 2.05 0 2.83L4 21.41c.39.39.9.59 1.41.59.51 0 1.02-.2 1.41-.59l7.78-7.78 2.81-2.81c.8-.78.8-2.07 0-2.86zM5.41 20L4 18.59l7.72-7.72 1.47 1.35L5.41 20z\"/>\n",
              "  </svg>\n",
              "      </button>\n",
              "      \n",
              "  <style>\n",
              "    .colab-df-container {\n",
              "      display:flex;\n",
              "      flex-wrap:wrap;\n",
              "      gap: 12px;\n",
              "    }\n",
              "\n",
              "    .colab-df-convert {\n",
              "      background-color: #E8F0FE;\n",
              "      border: none;\n",
              "      border-radius: 50%;\n",
              "      cursor: pointer;\n",
              "      display: none;\n",
              "      fill: #1967D2;\n",
              "      height: 32px;\n",
              "      padding: 0 0 0 0;\n",
              "      width: 32px;\n",
              "    }\n",
              "\n",
              "    .colab-df-convert:hover {\n",
              "      background-color: #E2EBFA;\n",
              "      box-shadow: 0px 1px 2px rgba(60, 64, 67, 0.3), 0px 1px 3px 1px rgba(60, 64, 67, 0.15);\n",
              "      fill: #174EA6;\n",
              "    }\n",
              "\n",
              "    [theme=dark] .colab-df-convert {\n",
              "      background-color: #3B4455;\n",
              "      fill: #D2E3FC;\n",
              "    }\n",
              "\n",
              "    [theme=dark] .colab-df-convert:hover {\n",
              "      background-color: #434B5C;\n",
              "      box-shadow: 0px 1px 3px 1px rgba(0, 0, 0, 0.15);\n",
              "      filter: drop-shadow(0px 1px 2px rgba(0, 0, 0, 0.3));\n",
              "      fill: #FFFFFF;\n",
              "    }\n",
              "  </style>\n",
              "\n",
              "      <script>\n",
              "        const buttonEl =\n",
              "          document.querySelector('#df-e501a771-ea94-486a-b3b8-b65825807371 button.colab-df-convert');\n",
              "        buttonEl.style.display =\n",
              "          google.colab.kernel.accessAllowed ? 'block' : 'none';\n",
              "\n",
              "        async function convertToInteractive(key) {\n",
              "          const element = document.querySelector('#df-e501a771-ea94-486a-b3b8-b65825807371');\n",
              "          const dataTable =\n",
              "            await google.colab.kernel.invokeFunction('convertToInteractive',\n",
              "                                                     [key], {});\n",
              "          if (!dataTable) return;\n",
              "\n",
              "          const docLinkHtml = 'Like what you see? Visit the ' +\n",
              "            '<a target=\"_blank\" href=https://colab.research.google.com/notebooks/data_table.ipynb>data table notebook</a>'\n",
              "            + ' to learn more about interactive tables.';\n",
              "          element.innerHTML = '';\n",
              "          dataTable['output_type'] = 'display_data';\n",
              "          await google.colab.output.renderOutput(dataTable, element);\n",
              "          const docLink = document.createElement('div');\n",
              "          docLink.innerHTML = docLinkHtml;\n",
              "          element.appendChild(docLink);\n",
              "        }\n",
              "      </script>\n",
              "    </div>\n",
              "  </div>\n",
              "  "
            ]
          },
          "metadata": {},
          "execution_count": 59
        }
      ]
    },
    {
      "cell_type": "code",
      "source": [
        "df.isnull().sum()"
      ],
      "metadata": {
        "colab": {
          "base_uri": "https://localhost:8080/"
        },
        "id": "yROPoZsXzVNc",
        "outputId": "4cdec453-62cc-497f-ddb5-97f5404a6248"
      },
      "execution_count": null,
      "outputs": [
        {
          "output_type": "execute_result",
          "data": {
            "text/plain": [
              "label      0\n",
              "message    0\n",
              "length     0\n",
              "punct      0\n",
              "dtype: int64"
            ]
          },
          "metadata": {},
          "execution_count": 60
        }
      ]
    },
    {
      "cell_type": "code",
      "source": [
        "df.info()"
      ],
      "metadata": {
        "colab": {
          "base_uri": "https://localhost:8080/"
        },
        "id": "W1Qvjd1pzVPs",
        "outputId": "8c4b9a1b-36ae-4027-fb5b-78bcfba88d1e"
      },
      "execution_count": null,
      "outputs": [
        {
          "output_type": "stream",
          "name": "stdout",
          "text": [
            "<class 'pandas.core.frame.DataFrame'>\n",
            "RangeIndex: 5572 entries, 0 to 5571\n",
            "Data columns (total 4 columns):\n",
            " #   Column   Non-Null Count  Dtype \n",
            "---  ------   --------------  ----- \n",
            " 0   label    5572 non-null   object\n",
            " 1   message  5572 non-null   object\n",
            " 2   length   5572 non-null   int64 \n",
            " 3   punct    5572 non-null   int64 \n",
            "dtypes: int64(2), object(2)\n",
            "memory usage: 174.2+ KB\n"
          ]
        }
      ]
    },
    {
      "cell_type": "code",
      "source": [
        "df.describe()"
      ],
      "metadata": {
        "colab": {
          "base_uri": "https://localhost:8080/",
          "height": 300
        },
        "id": "2e8_46iUzVRt",
        "outputId": "56e14d7c-ad0a-49e3-fe16-6d7714e89f03"
      },
      "execution_count": null,
      "outputs": [
        {
          "output_type": "execute_result",
          "data": {
            "text/plain": [
              "            length        punct\n",
              "count  5572.000000  5572.000000\n",
              "mean     80.489950     4.177495\n",
              "std      59.942907     4.623919\n",
              "min       2.000000     0.000000\n",
              "25%      36.000000     2.000000\n",
              "50%      62.000000     3.000000\n",
              "75%     122.000000     6.000000\n",
              "max     910.000000   133.000000"
            ],
            "text/html": [
              "\n",
              "  <div id=\"df-8f50dff0-9536-4d76-a0e0-d2c67ba4cc3b\">\n",
              "    <div class=\"colab-df-container\">\n",
              "      <div>\n",
              "<style scoped>\n",
              "    .dataframe tbody tr th:only-of-type {\n",
              "        vertical-align: middle;\n",
              "    }\n",
              "\n",
              "    .dataframe tbody tr th {\n",
              "        vertical-align: top;\n",
              "    }\n",
              "\n",
              "    .dataframe thead th {\n",
              "        text-align: right;\n",
              "    }\n",
              "</style>\n",
              "<table border=\"1\" class=\"dataframe\">\n",
              "  <thead>\n",
              "    <tr style=\"text-align: right;\">\n",
              "      <th></th>\n",
              "      <th>length</th>\n",
              "      <th>punct</th>\n",
              "    </tr>\n",
              "  </thead>\n",
              "  <tbody>\n",
              "    <tr>\n",
              "      <th>count</th>\n",
              "      <td>5572.000000</td>\n",
              "      <td>5572.000000</td>\n",
              "    </tr>\n",
              "    <tr>\n",
              "      <th>mean</th>\n",
              "      <td>80.489950</td>\n",
              "      <td>4.177495</td>\n",
              "    </tr>\n",
              "    <tr>\n",
              "      <th>std</th>\n",
              "      <td>59.942907</td>\n",
              "      <td>4.623919</td>\n",
              "    </tr>\n",
              "    <tr>\n",
              "      <th>min</th>\n",
              "      <td>2.000000</td>\n",
              "      <td>0.000000</td>\n",
              "    </tr>\n",
              "    <tr>\n",
              "      <th>25%</th>\n",
              "      <td>36.000000</td>\n",
              "      <td>2.000000</td>\n",
              "    </tr>\n",
              "    <tr>\n",
              "      <th>50%</th>\n",
              "      <td>62.000000</td>\n",
              "      <td>3.000000</td>\n",
              "    </tr>\n",
              "    <tr>\n",
              "      <th>75%</th>\n",
              "      <td>122.000000</td>\n",
              "      <td>6.000000</td>\n",
              "    </tr>\n",
              "    <tr>\n",
              "      <th>max</th>\n",
              "      <td>910.000000</td>\n",
              "      <td>133.000000</td>\n",
              "    </tr>\n",
              "  </tbody>\n",
              "</table>\n",
              "</div>\n",
              "      <button class=\"colab-df-convert\" onclick=\"convertToInteractive('df-8f50dff0-9536-4d76-a0e0-d2c67ba4cc3b')\"\n",
              "              title=\"Convert this dataframe to an interactive table.\"\n",
              "              style=\"display:none;\">\n",
              "        \n",
              "  <svg xmlns=\"http://www.w3.org/2000/svg\" height=\"24px\"viewBox=\"0 0 24 24\"\n",
              "       width=\"24px\">\n",
              "    <path d=\"M0 0h24v24H0V0z\" fill=\"none\"/>\n",
              "    <path d=\"M18.56 5.44l.94 2.06.94-2.06 2.06-.94-2.06-.94-.94-2.06-.94 2.06-2.06.94zm-11 1L8.5 8.5l.94-2.06 2.06-.94-2.06-.94L8.5 2.5l-.94 2.06-2.06.94zm10 10l.94 2.06.94-2.06 2.06-.94-2.06-.94-.94-2.06-.94 2.06-2.06.94z\"/><path d=\"M17.41 7.96l-1.37-1.37c-.4-.4-.92-.59-1.43-.59-.52 0-1.04.2-1.43.59L10.3 9.45l-7.72 7.72c-.78.78-.78 2.05 0 2.83L4 21.41c.39.39.9.59 1.41.59.51 0 1.02-.2 1.41-.59l7.78-7.78 2.81-2.81c.8-.78.8-2.07 0-2.86zM5.41 20L4 18.59l7.72-7.72 1.47 1.35L5.41 20z\"/>\n",
              "  </svg>\n",
              "      </button>\n",
              "      \n",
              "  <style>\n",
              "    .colab-df-container {\n",
              "      display:flex;\n",
              "      flex-wrap:wrap;\n",
              "      gap: 12px;\n",
              "    }\n",
              "\n",
              "    .colab-df-convert {\n",
              "      background-color: #E8F0FE;\n",
              "      border: none;\n",
              "      border-radius: 50%;\n",
              "      cursor: pointer;\n",
              "      display: none;\n",
              "      fill: #1967D2;\n",
              "      height: 32px;\n",
              "      padding: 0 0 0 0;\n",
              "      width: 32px;\n",
              "    }\n",
              "\n",
              "    .colab-df-convert:hover {\n",
              "      background-color: #E2EBFA;\n",
              "      box-shadow: 0px 1px 2px rgba(60, 64, 67, 0.3), 0px 1px 3px 1px rgba(60, 64, 67, 0.15);\n",
              "      fill: #174EA6;\n",
              "    }\n",
              "\n",
              "    [theme=dark] .colab-df-convert {\n",
              "      background-color: #3B4455;\n",
              "      fill: #D2E3FC;\n",
              "    }\n",
              "\n",
              "    [theme=dark] .colab-df-convert:hover {\n",
              "      background-color: #434B5C;\n",
              "      box-shadow: 0px 1px 3px 1px rgba(0, 0, 0, 0.15);\n",
              "      filter: drop-shadow(0px 1px 2px rgba(0, 0, 0, 0.3));\n",
              "      fill: #FFFFFF;\n",
              "    }\n",
              "  </style>\n",
              "\n",
              "      <script>\n",
              "        const buttonEl =\n",
              "          document.querySelector('#df-8f50dff0-9536-4d76-a0e0-d2c67ba4cc3b button.colab-df-convert');\n",
              "        buttonEl.style.display =\n",
              "          google.colab.kernel.accessAllowed ? 'block' : 'none';\n",
              "\n",
              "        async function convertToInteractive(key) {\n",
              "          const element = document.querySelector('#df-8f50dff0-9536-4d76-a0e0-d2c67ba4cc3b');\n",
              "          const dataTable =\n",
              "            await google.colab.kernel.invokeFunction('convertToInteractive',\n",
              "                                                     [key], {});\n",
              "          if (!dataTable) return;\n",
              "\n",
              "          const docLinkHtml = 'Like what you see? Visit the ' +\n",
              "            '<a target=\"_blank\" href=https://colab.research.google.com/notebooks/data_table.ipynb>data table notebook</a>'\n",
              "            + ' to learn more about interactive tables.';\n",
              "          element.innerHTML = '';\n",
              "          dataTable['output_type'] = 'display_data';\n",
              "          await google.colab.output.renderOutput(dataTable, element);\n",
              "          const docLink = document.createElement('div');\n",
              "          docLink.innerHTML = docLinkHtml;\n",
              "          element.appendChild(docLink);\n",
              "        }\n",
              "      </script>\n",
              "    </div>\n",
              "  </div>\n",
              "  "
            ]
          },
          "metadata": {},
          "execution_count": 62
        }
      ]
    },
    {
      "cell_type": "code",
      "source": [
        "#check imbalance dataset - \n",
        "df['label'].value_counts()/(len(df))*100"
      ],
      "metadata": {
        "colab": {
          "base_uri": "https://localhost:8080/"
        },
        "id": "lajq_dTEzVUP",
        "outputId": "4d146287-fe2f-4bc3-90b0-cc6918437e68"
      },
      "execution_count": null,
      "outputs": [
        {
          "output_type": "execute_result",
          "data": {
            "text/plain": [
              "ham     86.593683\n",
              "spam    13.406317\n",
              "Name: label, dtype: float64"
            ]
          },
          "metadata": {},
          "execution_count": 63
        }
      ]
    },
    {
      "cell_type": "code",
      "source": [
        "ham = df[df['label']=='ham']\n",
        "spam = df[df['label']=='spam']"
      ],
      "metadata": {
        "id": "S_eMvxJozVWi"
      },
      "execution_count": null,
      "outputs": []
    },
    {
      "cell_type": "code",
      "source": [
        "ham.shape,spam.shape"
      ],
      "metadata": {
        "colab": {
          "base_uri": "https://localhost:8080/"
        },
        "id": "yi7Wr7s3zVZB",
        "outputId": "7f4b3de6-2be9-48c9-ceaf-82d3a48eb170"
      },
      "execution_count": null,
      "outputs": [
        {
          "output_type": "execute_result",
          "data": {
            "text/plain": [
              "((4825, 4), (747, 4))"
            ]
          },
          "metadata": {},
          "execution_count": 65
        }
      ]
    },
    {
      "cell_type": "code",
      "source": [
        "# oversampling - ham = 4825,spam = 4825, total=9650\n",
        "# undersampling - ham = 747, spam  = 747 , total = 1494"
      ],
      "metadata": {
        "id": "Kf3UroX3zVbj"
      },
      "execution_count": null,
      "outputs": []
    },
    {
      "cell_type": "code",
      "source": [
        "# oversampling - target is minority class\n",
        "spam = spam.sample(ham.shape[0],replace = True) \n",
        "spam.shape, ham.shape"
      ],
      "metadata": {
        "colab": {
          "base_uri": "https://localhost:8080/"
        },
        "id": "XQ0F-PSozVeG",
        "outputId": "724b0bb8-4c14-4948-adf8-edd88dcc2327"
      },
      "execution_count": null,
      "outputs": [
        {
          "output_type": "execute_result",
          "data": {
            "text/plain": [
              "((4825, 4), (4825, 4))"
            ]
          },
          "metadata": {},
          "execution_count": 67
        }
      ]
    },
    {
      "cell_type": "code",
      "source": [
        "# undersampling - target is majority class\n",
        "ham = ham.sample(spam.shape[0]) \n",
        "ham.shape, spam.shape"
      ],
      "metadata": {
        "colab": {
          "base_uri": "https://localhost:8080/"
        },
        "id": "u_DjWtxSzVgz",
        "outputId": "a917fb0b-4e4f-411d-e5eb-1636fd42e543"
      },
      "execution_count": null,
      "outputs": [
        {
          "output_type": "execute_result",
          "data": {
            "text/plain": [
              "((4825, 4), (4825, 4))"
            ]
          },
          "metadata": {},
          "execution_count": 68
        }
      ]
    },
    {
      "cell_type": "code",
      "source": [
        "# for smote , we have to first convert the comments into integers via bow , ngram or tf-idf\n",
        "# data got balanced\n",
        "# append the dataset"
      ],
      "metadata": {
        "id": "fF9HjouMzVjL"
      },
      "execution_count": null,
      "outputs": []
    },
    {
      "cell_type": "code",
      "source": [
        "data = ham.append(spam,ignore_index=True)\n",
        "data.shape"
      ],
      "metadata": {
        "colab": {
          "base_uri": "https://localhost:8080/"
        },
        "id": "M8mkp-R6zVls",
        "outputId": "77616c3d-a4c4-4563-e94f-1e5f2d992f9d"
      },
      "execution_count": null,
      "outputs": [
        {
          "output_type": "execute_result",
          "data": {
            "text/plain": [
              "(9650, 4)"
            ]
          },
          "metadata": {},
          "execution_count": 70
        }
      ]
    },
    {
      "cell_type": "code",
      "source": [
        "data.head()"
      ],
      "metadata": {
        "colab": {
          "base_uri": "https://localhost:8080/",
          "height": 206
        },
        "id": "j1GATxyQzVoM",
        "outputId": "c1ac4c62-56a0-4029-8311-cedabd805893"
      },
      "execution_count": null,
      "outputs": [
        {
          "output_type": "execute_result",
          "data": {
            "text/plain": [
              "  label                                            message  length  punct\n",
              "0   ham          I sent your maga that money yesterday oh.      41      1\n",
              "1   ham                    I am waiting for your call sir.      31      1\n",
              "2   ham   said kiss, kiss, i can't do the sound effects...     133      7\n",
              "3   ham          Uh, heads up we don't have THAT much left      41      2\n",
              "4   ham  They did't play one day last year know even th...      89      4"
            ],
            "text/html": [
              "\n",
              "  <div id=\"df-231deced-5ba7-4855-a39f-75a6727129be\">\n",
              "    <div class=\"colab-df-container\">\n",
              "      <div>\n",
              "<style scoped>\n",
              "    .dataframe tbody tr th:only-of-type {\n",
              "        vertical-align: middle;\n",
              "    }\n",
              "\n",
              "    .dataframe tbody tr th {\n",
              "        vertical-align: top;\n",
              "    }\n",
              "\n",
              "    .dataframe thead th {\n",
              "        text-align: right;\n",
              "    }\n",
              "</style>\n",
              "<table border=\"1\" class=\"dataframe\">\n",
              "  <thead>\n",
              "    <tr style=\"text-align: right;\">\n",
              "      <th></th>\n",
              "      <th>label</th>\n",
              "      <th>message</th>\n",
              "      <th>length</th>\n",
              "      <th>punct</th>\n",
              "    </tr>\n",
              "  </thead>\n",
              "  <tbody>\n",
              "    <tr>\n",
              "      <th>0</th>\n",
              "      <td>ham</td>\n",
              "      <td>I sent your maga that money yesterday oh.</td>\n",
              "      <td>41</td>\n",
              "      <td>1</td>\n",
              "    </tr>\n",
              "    <tr>\n",
              "      <th>1</th>\n",
              "      <td>ham</td>\n",
              "      <td>I am waiting for your call sir.</td>\n",
              "      <td>31</td>\n",
              "      <td>1</td>\n",
              "    </tr>\n",
              "    <tr>\n",
              "      <th>2</th>\n",
              "      <td>ham</td>\n",
              "      <td>said kiss, kiss, i can't do the sound effects...</td>\n",
              "      <td>133</td>\n",
              "      <td>7</td>\n",
              "    </tr>\n",
              "    <tr>\n",
              "      <th>3</th>\n",
              "      <td>ham</td>\n",
              "      <td>Uh, heads up we don't have THAT much left</td>\n",
              "      <td>41</td>\n",
              "      <td>2</td>\n",
              "    </tr>\n",
              "    <tr>\n",
              "      <th>4</th>\n",
              "      <td>ham</td>\n",
              "      <td>They did't play one day last year know even th...</td>\n",
              "      <td>89</td>\n",
              "      <td>4</td>\n",
              "    </tr>\n",
              "  </tbody>\n",
              "</table>\n",
              "</div>\n",
              "      <button class=\"colab-df-convert\" onclick=\"convertToInteractive('df-231deced-5ba7-4855-a39f-75a6727129be')\"\n",
              "              title=\"Convert this dataframe to an interactive table.\"\n",
              "              style=\"display:none;\">\n",
              "        \n",
              "  <svg xmlns=\"http://www.w3.org/2000/svg\" height=\"24px\"viewBox=\"0 0 24 24\"\n",
              "       width=\"24px\">\n",
              "    <path d=\"M0 0h24v24H0V0z\" fill=\"none\"/>\n",
              "    <path d=\"M18.56 5.44l.94 2.06.94-2.06 2.06-.94-2.06-.94-.94-2.06-.94 2.06-2.06.94zm-11 1L8.5 8.5l.94-2.06 2.06-.94-2.06-.94L8.5 2.5l-.94 2.06-2.06.94zm10 10l.94 2.06.94-2.06 2.06-.94-2.06-.94-.94-2.06-.94 2.06-2.06.94z\"/><path d=\"M17.41 7.96l-1.37-1.37c-.4-.4-.92-.59-1.43-.59-.52 0-1.04.2-1.43.59L10.3 9.45l-7.72 7.72c-.78.78-.78 2.05 0 2.83L4 21.41c.39.39.9.59 1.41.59.51 0 1.02-.2 1.41-.59l7.78-7.78 2.81-2.81c.8-.78.8-2.07 0-2.86zM5.41 20L4 18.59l7.72-7.72 1.47 1.35L5.41 20z\"/>\n",
              "  </svg>\n",
              "      </button>\n",
              "      \n",
              "  <style>\n",
              "    .colab-df-container {\n",
              "      display:flex;\n",
              "      flex-wrap:wrap;\n",
              "      gap: 12px;\n",
              "    }\n",
              "\n",
              "    .colab-df-convert {\n",
              "      background-color: #E8F0FE;\n",
              "      border: none;\n",
              "      border-radius: 50%;\n",
              "      cursor: pointer;\n",
              "      display: none;\n",
              "      fill: #1967D2;\n",
              "      height: 32px;\n",
              "      padding: 0 0 0 0;\n",
              "      width: 32px;\n",
              "    }\n",
              "\n",
              "    .colab-df-convert:hover {\n",
              "      background-color: #E2EBFA;\n",
              "      box-shadow: 0px 1px 2px rgba(60, 64, 67, 0.3), 0px 1px 3px 1px rgba(60, 64, 67, 0.15);\n",
              "      fill: #174EA6;\n",
              "    }\n",
              "\n",
              "    [theme=dark] .colab-df-convert {\n",
              "      background-color: #3B4455;\n",
              "      fill: #D2E3FC;\n",
              "    }\n",
              "\n",
              "    [theme=dark] .colab-df-convert:hover {\n",
              "      background-color: #434B5C;\n",
              "      box-shadow: 0px 1px 3px 1px rgba(0, 0, 0, 0.15);\n",
              "      filter: drop-shadow(0px 1px 2px rgba(0, 0, 0, 0.3));\n",
              "      fill: #FFFFFF;\n",
              "    }\n",
              "  </style>\n",
              "\n",
              "      <script>\n",
              "        const buttonEl =\n",
              "          document.querySelector('#df-231deced-5ba7-4855-a39f-75a6727129be button.colab-df-convert');\n",
              "        buttonEl.style.display =\n",
              "          google.colab.kernel.accessAllowed ? 'block' : 'none';\n",
              "\n",
              "        async function convertToInteractive(key) {\n",
              "          const element = document.querySelector('#df-231deced-5ba7-4855-a39f-75a6727129be');\n",
              "          const dataTable =\n",
              "            await google.colab.kernel.invokeFunction('convertToInteractive',\n",
              "                                                     [key], {});\n",
              "          if (!dataTable) return;\n",
              "\n",
              "          const docLinkHtml = 'Like what you see? Visit the ' +\n",
              "            '<a target=\"_blank\" href=https://colab.research.google.com/notebooks/data_table.ipynb>data table notebook</a>'\n",
              "            + ' to learn more about interactive tables.';\n",
              "          element.innerHTML = '';\n",
              "          dataTable['output_type'] = 'display_data';\n",
              "          await google.colab.output.renderOutput(dataTable, element);\n",
              "          const docLink = document.createElement('div');\n",
              "          docLink.innerHTML = docLinkHtml;\n",
              "          element.appendChild(docLink);\n",
              "        }\n",
              "      </script>\n",
              "    </div>\n",
              "  </div>\n",
              "  "
            ]
          },
          "metadata": {},
          "execution_count": 71
        }
      ]
    },
    {
      "cell_type": "code",
      "source": [
        "# Visualization by using ham and spam\n",
        "plt.hist(data[data['label']=='ham']['length'],bins=100,alpha=0.7)\n",
        "plt.hist(data[data['label']=='spam']['length'],bins=100,alpha=0.7)\n",
        "plt.show()"
      ],
      "metadata": {
        "colab": {
          "base_uri": "https://localhost:8080/",
          "height": 430
        },
        "id": "H8VPZI4NzVqt",
        "outputId": "820c60f4-aa7f-4814-d47a-c30ee2c8130e"
      },
      "execution_count": null,
      "outputs": [
        {
          "output_type": "display_data",
          "data": {
            "text/plain": [
              "<Figure size 640x480 with 1 Axes>"
            ],
            "image/png": "[encoded data removed]"
          },
          "metadata": {}
        }
      ]
    },
    {
      "cell_type": "code",
      "source": [
        "plt.hist(data[data['label']=='ham']['punct'],bins=100,alpha=0.7)\n",
        "plt.hist(data[data['label']=='spam']['punct'],bins=100,alpha=0.7)\n",
        "plt.show()"
      ],
      "metadata": {
        "colab": {
          "base_uri": "https://localhost:8080/",
          "height": 430
        },
        "id": "JZObzdLQzVtG",
        "outputId": "1d2f0c5b-5a1a-4334-e222-2a12ea4afb3b"
      },
      "execution_count": null,
      "outputs": [
        {
          "output_type": "display_data",
          "data": {
            "text/plain": [
              "<Figure size 640x480 with 1 Axes>"
            ],
            "image/png": "[encoded data removed]"
          },
          "metadata": {}
        }
      ]
    },
    {
      "cell_type": "code",
      "source": [
        "data.columns"
      ],
      "metadata": {
        "colab": {
          "base_uri": "https://localhost:8080/"
        },
        "id": "mV3JxEbLzVvX",
        "outputId": "807a65ec-6176-4c89-e4a0-4742e7c9aabe"
      },
      "execution_count": null,
      "outputs": [
        {
          "output_type": "execute_result",
          "data": {
            "text/plain": [
              "Index(['label', 'message', 'length', 'punct'], dtype='object')"
            ]
          },
          "metadata": {},
          "execution_count": 74
        }
      ]
    },
    {
      "cell_type": "code",
      "source": [
        "#split data in train-test-\n",
        "from sklearn.model_selection import train_test_split\n",
        "x_train,x_test,y_train,y_test = train_test_split(data['message'],data['label'],test_size=0.3,random_state=101)"
      ],
      "metadata": {
        "id": "33TsFV2LzVx5"
      },
      "execution_count": null,
      "outputs": []
    },
    {
      "cell_type": "code",
      "source": [
        "print(x_train.shape,x_test.shape,y_train.shape,y_test.shape)"
      ],
      "metadata": {
        "colab": {
          "base_uri": "https://localhost:8080/"
        },
        "id": "QsndALDwzV0d",
        "outputId": "b7e8ef1d-8f3d-4254-9eaa-e619d95f59ad"
      },
      "execution_count": null,
      "outputs": [
        {
          "output_type": "stream",
          "name": "stdout",
          "text": [
            "(6755,) (2895,) (6755,) (2895,)\n"
          ]
        }
      ]
    },
    {
      "cell_type": "code",
      "source": [
        "#building classification model - "
      ],
      "metadata": {
        "id": "REobR9T3zV20"
      },
      "execution_count": null,
      "outputs": []
    },
    {
      "cell_type": "code",
      "source": [
        "from sklearn.feature_extraction.text import TfidfVectorizer\n",
        "from sklearn.ensemble import RandomForestClassifier\n",
        "#pipeline package to merge nlp and ml together -\n",
        "from sklearn.pipeline import Pipeline"
      ],
      "metadata": {
        "id": "gNG3vHFb7gjP"
      },
      "execution_count": null,
      "outputs": []
    },
    {
      "cell_type": "code",
      "source": [
        "cls = Pipeline([('tfidf',TfidfVectorizer()),('classifier',RandomForestClassifier())])"
      ],
      "metadata": {
        "id": "pPJpaVWo7gom"
      },
      "execution_count": null,
      "outputs": []
    },
    {
      "cell_type": "code",
      "source": [
        "cls"
      ],
      "metadata": {
        "colab": {
          "base_uri": "https://localhost:8080/",
          "height": 125
        },
        "id": "nVt8TJno7gw6",
        "outputId": "bc456357-66e9-4c98-e970-44e78612fe24"
      },
      "execution_count": null,
      "outputs": [
        {
          "output_type": "execute_result",
          "data": {
            "text/plain": [
              "Pipeline(steps=[('tfidf', TfidfVectorizer()),\n",
              "                ('classifier', RandomForestClassifier())])"
            ],
            "text/html": [
              "<style>#sk-container-id-3 {color: black;background-color: white;}#sk-container-id-3 pre{padding: 0;}#sk-container-id-3 div.sk-toggleable {background-color: white;}#sk-container-id-3 label.sk-toggleable__label {cursor: pointer;display: block;width: 100%;margin-bottom: 0;padding: 0.3em;box-sizing: border-box;text-align: center;}#sk-container-id-3 label.sk-toggleable__label-arrow:before {content: \"▸\";float: left;margin-right: 0.25em;color: #696969;}#sk-container-id-3 label.sk-toggleable__label-arrow:hover:before {color: black;}#sk-container-id-3 div.sk-estimator:hover label.sk-toggleable__label-arrow:before {color: black;}#sk-container-id-3 div.sk-toggleable__content {max-height: 0;max-width: 0;overflow: hidden;text-align: left;background-color: #f0f8ff;}#sk-container-id-3 div.sk-toggleable__content pre {margin: 0.2em;color: black;border-radius: 0.25em;background-color: #f0f8ff;}#sk-container-id-3 input.sk-toggleable__control:checked~div.sk-toggleable__content {max-height: 200px;max-width: 100%;overflow: auto;}#sk-container-id-3 input.sk-toggleable__control:checked~label.sk-toggleable__label-arrow:before {content: \"▾\";}#sk-container-id-3 div.sk-estimator input.sk-toggleable__control:checked~label.sk-toggleable__label {background-color: #d4ebff;}#sk-container-id-3 div.sk-label input.sk-toggleable__control:checked~label.sk-toggleable__label {background-color: #d4ebff;}#sk-container-id-3 input.sk-hidden--visually {border: 0;clip: rect(1px 1px 1px 1px);clip: rect(1px, 1px, 1px, 1px);height: 1px;margin: -1px;overflow: hidden;padding: 0;position: absolute;width: 1px;}#sk-container-id-3 div.sk-estimator {font-family: monospace;background-color: #f0f8ff;border: 1px dotted black;border-radius: 0.25em;box-sizing: border-box;margin-bottom: 0.5em;}#sk-container-id-3 div.sk-estimator:hover {background-color: #d4ebff;}#sk-container-id-3 div.sk-parallel-item::after {content: \"\";width: 100%;border-bottom: 1px solid gray;flex-grow: 1;}#sk-container-id-3 div.sk-label:hover label.sk-toggleable__label {background-color: #d4ebff;}#sk-container-id-3 div.sk-serial::before {content: \"\";position: absolute;border-left: 1px solid gray;box-sizing: border-box;top: 0;bottom: 0;left: 50%;z-index: 0;}#sk-container-id-3 div.sk-serial {display: flex;flex-direction: column;align-items: center;background-color: white;padding-right: 0.2em;padding-left: 0.2em;position: relative;}#sk-container-id-3 div.sk-item {position: relative;z-index: 1;}#sk-container-id-3 div.sk-parallel {display: flex;align-items: stretch;justify-content: center;background-color: white;position: relative;}#sk-container-id-3 div.sk-item::before, #sk-container-id-3 div.sk-parallel-item::before {content: \"\";position: absolute;border-left: 1px solid gray;box-sizing: border-box;top: 0;bottom: 0;left: 50%;z-index: -1;}#sk-container-id-3 div.sk-parallel-item {display: flex;flex-direction: column;z-index: 1;position: relative;background-color: white;}#sk-container-id-3 div.sk-parallel-item:first-child::after {align-self: flex-end;width: 50%;}#sk-container-id-3 div.sk-parallel-item:last-child::after {align-self: flex-start;width: 50%;}#sk-container-id-3 div.sk-parallel-item:only-child::after {width: 0;}#sk-container-id-3 div.sk-dashed-wrapped {border: 1px dashed gray;margin: 0 0.4em 0.5em 0.4em;box-sizing: border-box;padding-bottom: 0.4em;background-color: white;}#sk-container-id-3 div.sk-label label {font-family: monospace;font-weight: bold;display: inline-block;line-height: 1.2em;}#sk-container-id-3 div.sk-label-container {text-align: center;}#sk-container-id-3 div.sk-container {/* jupyter's `normalize.less` sets `[hidden] { display: none; }` but bootstrap.min.css set `[hidden] { display: none !important; }` so we also need the `!important` here to be able to override the default hidden behavior on the sphinx rendered scikit-learn.org. See: https://github.com/scikit-learn/scikit-learn/issues/21755 */display: inline-block !important;position: relative;}#sk-container-id-3 div.sk-text-repr-fallback {display: none;}</style><div id=\"sk-container-id-3\" class=\"sk-top-container\"><div class=\"sk-text-repr-fallback\"><pre>Pipeline(steps=[(&#x27;tfidf&#x27;, TfidfVectorizer()),\n",
              "                (&#x27;classifier&#x27;, RandomForestClassifier())])</pre><b>In a Jupyter environment, please rerun this cell to show the HTML representation or trust the notebook. <br />On GitHub, the HTML representation is unable to render, please try loading this page with nbviewer.org.</b></div><div class=\"sk-container\" hidden><div class=\"sk-item sk-dashed-wrapped\"><div class=\"sk-label-container\"><div class=\"sk-label sk-toggleable\"><input class=\"sk-toggleable__control sk-hidden--visually\" id=\"sk-estimator-id-7\" type=\"checkbox\" ><label for=\"sk-estimator-id-7\" class=\"sk-toggleable__label sk-toggleable__label-arrow\">Pipeline</label><div class=\"sk-toggleable__content\"><pre>Pipeline(steps=[(&#x27;tfidf&#x27;, TfidfVectorizer()),\n",
              "                (&#x27;classifier&#x27;, RandomForestClassifier())])</pre></div></div></div><div class=\"sk-serial\"><div class=\"sk-item\"><div class=\"sk-estimator sk-toggleable\"><input class=\"sk-toggleable__control sk-hidden--visually\" id=\"sk-estimator-id-8\" type=\"checkbox\" ><label for=\"sk-estimator-id-8\" class=\"sk-toggleable__label sk-toggleable__label-arrow\">TfidfVectorizer</label><div class=\"sk-toggleable__content\"><pre>TfidfVectorizer()</pre></div></div></div><div class=\"sk-item\"><div class=\"sk-estimator sk-toggleable\"><input class=\"sk-toggleable__control sk-hidden--visually\" id=\"sk-estimator-id-9\" type=\"checkbox\" ><label for=\"sk-estimator-id-9\" class=\"sk-toggleable__label sk-toggleable__label-arrow\">RandomForestClassifier</label><div class=\"sk-toggleable__content\"><pre>RandomForestClassifier()</pre></div></div></div></div></div></div></div>"
            ]
          },
          "metadata": {},
          "execution_count": 80
        }
      ]
    },
    {
      "cell_type": "code",
      "source": [
        "cls.fit(x_train,y_train)"
      ],
      "metadata": {
        "colab": {
          "base_uri": "https://localhost:8080/",
          "height": 125
        },
        "id": "GFSf8yV27g0b",
        "outputId": "78b885f2-a0fd-4e29-9c04-04a4f0d165e9"
      },
      "execution_count": null,
      "outputs": [
        {
          "output_type": "execute_result",
          "data": {
            "text/plain": [
              "Pipeline(steps=[('tfidf', TfidfVectorizer()),\n",
              "                ('classifier', RandomForestClassifier())])"
            ],
            "text/html": [
              "<style>#sk-container-id-4 {color: black;background-color: white;}#sk-container-id-4 pre{padding: 0;}#sk-container-id-4 div.sk-toggleable {background-color: white;}#sk-container-id-4 label.sk-toggleable__label {cursor: pointer;display: block;width: 100%;margin-bottom: 0;padding: 0.3em;box-sizing: border-box;text-align: center;}#sk-container-id-4 label.sk-toggleable__label-arrow:before {content: \"▸\";float: left;margin-right: 0.25em;color: #696969;}#sk-container-id-4 label.sk-toggleable__label-arrow:hover:before {color: black;}#sk-container-id-4 div.sk-estimator:hover label.sk-toggleable__label-arrow:before {color: black;}#sk-container-id-4 div.sk-toggleable__content {max-height: 0;max-width: 0;overflow: hidden;text-align: left;background-color: #f0f8ff;}#sk-container-id-4 div.sk-toggleable__content pre {margin: 0.2em;color: black;border-radius: 0.25em;background-color: #f0f8ff;}#sk-container-id-4 input.sk-toggleable__control:checked~div.sk-toggleable__content {max-height: 200px;max-width: 100%;overflow: auto;}#sk-container-id-4 input.sk-toggleable__control:checked~label.sk-toggleable__label-arrow:before {content: \"▾\";}#sk-container-id-4 div.sk-estimator input.sk-toggleable__control:checked~label.sk-toggleable__label {background-color: #d4ebff;}#sk-container-id-4 div.sk-label input.sk-toggleable__control:checked~label.sk-toggleable__label {background-color: #d4ebff;}#sk-container-id-4 input.sk-hidden--visually {border: 0;clip: rect(1px 1px 1px 1px);clip: rect(1px, 1px, 1px, 1px);height: 1px;margin: -1px;overflow: hidden;padding: 0;position: absolute;width: 1px;}#sk-container-id-4 div.sk-estimator {font-family: monospace;background-color: #f0f8ff;border: 1px dotted black;border-radius: 0.25em;box-sizing: border-box;margin-bottom: 0.5em;}#sk-container-id-4 div.sk-estimator:hover {background-color: #d4ebff;}#sk-container-id-4 div.sk-parallel-item::after {content: \"\";width: 100%;border-bottom: 1px solid gray;flex-grow: 1;}#sk-container-id-4 div.sk-label:hover label.sk-toggleable__label {background-color: #d4ebff;}#sk-container-id-4 div.sk-serial::before {content: \"\";position: absolute;border-left: 1px solid gray;box-sizing: border-box;top: 0;bottom: 0;left: 50%;z-index: 0;}#sk-container-id-4 div.sk-serial {display: flex;flex-direction: column;align-items: center;background-color: white;padding-right: 0.2em;padding-left: 0.2em;position: relative;}#sk-container-id-4 div.sk-item {position: relative;z-index: 1;}#sk-container-id-4 div.sk-parallel {display: flex;align-items: stretch;justify-content: center;background-color: white;position: relative;}#sk-container-id-4 div.sk-item::before, #sk-container-id-4 div.sk-parallel-item::before {content: \"\";position: absolute;border-left: 1px solid gray;box-sizing: border-box;top: 0;bottom: 0;left: 50%;z-index: -1;}#sk-container-id-4 div.sk-parallel-item {display: flex;flex-direction: column;z-index: 1;position: relative;background-color: white;}#sk-container-id-4 div.sk-parallel-item:first-child::after {align-self: flex-end;width: 50%;}#sk-container-id-4 div.sk-parallel-item:last-child::after {align-self: flex-start;width: 50%;}#sk-container-id-4 div.sk-parallel-item:only-child::after {width: 0;}#sk-container-id-4 div.sk-dashed-wrapped {border: 1px dashed gray;margin: 0 0.4em 0.5em 0.4em;box-sizing: border-box;padding-bottom: 0.4em;background-color: white;}#sk-container-id-4 div.sk-label label {font-family: monospace;font-weight: bold;display: inline-block;line-height: 1.2em;}#sk-container-id-4 div.sk-label-container {text-align: center;}#sk-container-id-4 div.sk-container {/* jupyter's `normalize.less` sets `[hidden] { display: none; }` but bootstrap.min.css set `[hidden] { display: none !important; }` so we also need the `!important` here to be able to override the default hidden behavior on the sphinx rendered scikit-learn.org. See: https://github.com/scikit-learn/scikit-learn/issues/21755 */display: inline-block !important;position: relative;}#sk-container-id-4 div.sk-text-repr-fallback {display: none;}</style><div id=\"sk-container-id-4\" class=\"sk-top-container\"><div class=\"sk-text-repr-fallback\"><pre>Pipeline(steps=[(&#x27;tfidf&#x27;, TfidfVectorizer()),\n",
              "                (&#x27;classifier&#x27;, RandomForestClassifier())])</pre><b>In a Jupyter environment, please rerun this cell to show the HTML representation or trust the notebook. <br />On GitHub, the HTML representation is unable to render, please try loading this page with nbviewer.org.</b></div><div class=\"sk-container\" hidden><div class=\"sk-item sk-dashed-wrapped\"><div class=\"sk-label-container\"><div class=\"sk-label sk-toggleable\"><input class=\"sk-toggleable__control sk-hidden--visually\" id=\"sk-estimator-id-10\" type=\"checkbox\" ><label for=\"sk-estimator-id-10\" class=\"sk-toggleable__label sk-toggleable__label-arrow\">Pipeline</label><div class=\"sk-toggleable__content\"><pre>Pipeline(steps=[(&#x27;tfidf&#x27;, TfidfVectorizer()),\n",
              "                (&#x27;classifier&#x27;, RandomForestClassifier())])</pre></div></div></div><div class=\"sk-serial\"><div class=\"sk-item\"><div class=\"sk-estimator sk-toggleable\"><input class=\"sk-toggleable__control sk-hidden--visually\" id=\"sk-estimator-id-11\" type=\"checkbox\" ><label for=\"sk-estimator-id-11\" class=\"sk-toggleable__label sk-toggleable__label-arrow\">TfidfVectorizer</label><div class=\"sk-toggleable__content\"><pre>TfidfVectorizer()</pre></div></div></div><div class=\"sk-item\"><div class=\"sk-estimator sk-toggleable\"><input class=\"sk-toggleable__control sk-hidden--visually\" id=\"sk-estimator-id-12\" type=\"checkbox\" ><label for=\"sk-estimator-id-12\" class=\"sk-toggleable__label sk-toggleable__label-arrow\">RandomForestClassifier</label><div class=\"sk-toggleable__content\"><pre>RandomForestClassifier()</pre></div></div></div></div></div></div></div>"
            ]
          },
          "metadata": {},
          "execution_count": 81
        }
      ]
    },
    {
      "cell_type": "code",
      "source": [
        "y_pred_train = cls.predict(x_train)\n",
        "y_pred_test = cls.predict(x_test)"
      ],
      "metadata": {
        "id": "TRcvQGNi7g4a"
      },
      "execution_count": null,
      "outputs": []
    },
    {
      "cell_type": "code",
      "source": [
        "y_pred_train"
      ],
      "metadata": {
        "colab": {
          "base_uri": "https://localhost:8080/"
        },
        "id": "gS4mkskF7g8G",
        "outputId": "4edfd433-bba4-48f8-f3b4-a086eea98e06"
      },
      "execution_count": null,
      "outputs": [
        {
          "output_type": "execute_result",
          "data": {
            "text/plain": [
              "array(['ham', 'ham', 'ham', ..., 'spam', 'ham', 'ham'], dtype=object)"
            ]
          },
          "metadata": {},
          "execution_count": 83
        }
      ]
    },
    {
      "cell_type": "code",
      "source": [
        "#prediction -\n",
        "y_pred_test"
      ],
      "metadata": {
        "colab": {
          "base_uri": "https://localhost:8080/"
        },
        "id": "uwUrlq5u7hAA",
        "outputId": "157254c5-9920-43d2-bddc-7c11a2baf174"
      },
      "execution_count": null,
      "outputs": [
        {
          "output_type": "execute_result",
          "data": {
            "text/plain": [
              "array(['spam', 'ham', 'ham', ..., 'ham', 'ham', 'spam'], dtype=object)"
            ]
          },
          "metadata": {},
          "execution_count": 84
        }
      ]
    },
    {
      "cell_type": "code",
      "source": [
        "# evaluation - \n",
        "from sklearn.metrics import confusion_matrix,classification_report,accuracy_score"
      ],
      "metadata": {
        "id": "mVbiMPkFzV5q"
      },
      "execution_count": null,
      "outputs": []
    },
    {
      "cell_type": "code",
      "source": [
        "confusion_matrix(y_test,y_pred_test)"
      ],
      "metadata": {
        "colab": {
          "base_uri": "https://localhost:8080/"
        },
        "id": "YPcGDimozV8n",
        "outputId": "14ddfd80-d01f-475c-b62b-b8a034ceead2"
      },
      "execution_count": null,
      "outputs": [
        {
          "output_type": "execute_result",
          "data": {
            "text/plain": [
              "array([[1466,    0],\n",
              "       [   0, 1429]])"
            ]
          },
          "metadata": {},
          "execution_count": 86
        }
      ]
    },
    {
      "cell_type": "code",
      "source": [
        "print(classification_report(y_train,y_pred_train))\n",
        "print('****'*2)\n",
        "print(classification_report(y_test,y_pred_test))"
      ],
      "metadata": {
        "colab": {
          "base_uri": "https://localhost:8080/"
        },
        "id": "3aBFpnybzV-t",
        "outputId": "b43ae2c2-6f51-4073-c3a4-6db51d5a74d5"
      },
      "execution_count": null,
      "outputs": [
        {
          "output_type": "stream",
          "name": "stdout",
          "text": [
            "              precision    recall  f1-score   support\n",
            "\n",
            "         ham       1.00      1.00      1.00      3359\n",
            "        spam       1.00      1.00      1.00      3396\n",
            "\n",
            "    accuracy                           1.00      6755\n",
            "   macro avg       1.00      1.00      1.00      6755\n",
            "weighted avg       1.00      1.00      1.00      6755\n",
            "\n",
            "********\n",
            "              precision    recall  f1-score   support\n",
            "\n",
            "         ham       1.00      1.00      1.00      1466\n",
            "        spam       1.00      1.00      1.00      1429\n",
            "\n",
            "    accuracy                           1.00      2895\n",
            "   macro avg       1.00      1.00      1.00      2895\n",
            "weighted avg       1.00      1.00      1.00      2895\n",
            "\n"
          ]
        }
      ]
    },
    {
      "cell_type": "code",
      "source": [
        "print(accuracy_score(y_train,y_pred_train))\n",
        "print('****'*2)\n",
        "print(accuracy_score(y_test,y_pred_test))"
      ],
      "metadata": {
        "colab": {
          "base_uri": "https://localhost:8080/"
        },
        "id": "tyxwEWQp__rC",
        "outputId": "c83be3f5-56e9-44b5-9544-f4548a35463d"
      },
      "execution_count": null,
      "outputs": [
        {
          "output_type": "stream",
          "name": "stdout",
          "text": [
            "1.0\n",
            "********\n",
            "1.0\n"
          ]
        }
      ]
    },
    {
      "cell_type": "code",
      "source": [
        "# sota models - word2vec,BERT"
      ],
      "metadata": {
        "id": "fEr-MZH9__th"
      },
      "execution_count": null,
      "outputs": []
    },
    {
      "cell_type": "code",
      "source": [
        "# check model performance\n",
        "test1 = ['hello, hope u are fine']\n",
        "test2 = ['congratulation, you won 1crore prize!! call on @123456 to claim the prize']\n",
        "test3 = ['call me at 4 pm jay its urgent']\n",
        "test4 = ['you won lottery,hurry up click the link and claim the ticket and win amazing prizes']\n",
        "test5 = ['Congrats Megna |  Shortlisted for Amazing Weekend Getaway']"
      ],
      "metadata": {
        "id": "CGcl4Imf__wC"
      },
      "execution_count": null,
      "outputs": []
    },
    {
      "cell_type": "code",
      "source": [
        "print(cls.predict(test1))\n",
        "print(cls.predict(test2))\n",
        "print(cls.predict(test3))\n",
        "print(cls.predict(test4))\n",
        "print(cls.predict(test5))"
      ],
      "metadata": {
        "colab": {
          "base_uri": "https://localhost:8080/"
        },
        "id": "9DHSY-1Q__yO",
        "outputId": "a5e5f405-9717-466a-c3e2-6565acb264be"
      },
      "execution_count": null,
      "outputs": [
        {
          "output_type": "stream",
          "name": "stdout",
          "text": [
            "['ham']\n",
            "['spam']\n",
            "['ham']\n",
            "['spam']\n",
            "['ham']\n"
          ]
        }
      ]
    },
    {
      "cell_type": "code",
      "source": [
        "# Naive bayes model- "
      ],
      "metadata": {
        "id": "McnN0VOjEw7F"
      },
      "execution_count": null,
      "outputs": []
    },
    {
      "cell_type": "code",
      "source": [
        "# P(A|B) = P(B|A) * P(A) / P(B)"
      ],
      "metadata": {
        "id": "LiZZ1E8cFzDb"
      },
      "execution_count": null,
      "outputs": []
    },
    {
      "cell_type": "code",
      "source": [
        "import re\n",
        "import nltk\n",
        "nltk.download('stopwords')\n",
        "from nltk.corpus import stopwords\n",
        "from nltk.stem.porter import PorterStemmer\n",
        "ps = PorterStemmer()\n",
        "corpus =[]\n",
        "for i in range(0,len(data)):\n",
        "  review = re.sub('[^a-zA-Z]',' ',data['message'][i])\n",
        "  review = review.lower()\n",
        "  review = review.split()\n",
        "  review = [ps.stem(word)for word in review if not word in stopwords.words('english')]\n",
        "  review = ' '.join(review)\n",
        "  corpus.append(review)"
      ],
      "metadata": {
        "colab": {
          "base_uri": "https://localhost:8080/"
        },
        "id": "TU2ChfxNExDk",
        "outputId": "ac508c44-f99c-47aa-dabd-61e335027903"
      },
      "execution_count": null,
      "outputs": [
        {
          "output_type": "stream",
          "name": "stderr",
          "text": [
            "[nltk_data] Downloading package stopwords to /root/nltk_data...\n",
            "[nltk_data]   Unzipping corpora/stopwords.zip.\n"
          ]
        }
      ]
    },
    {
      "cell_type": "code",
      "source": [
        "corpus"
      ],
      "metadata": {
        "colab": {
          "base_uri": "https://localhost:8080/"
        },
        "id": "xbM0-SL7ExLe",
        "outputId": "30d9e504-4257-4310-a6a5-f0cf7388b8a8"
      },
      "execution_count": null,
      "outputs": [
        {
          "output_type": "execute_result",
          "data": {
            "text/plain": [
              "['sent maga money yesterday oh',\n",
              " 'wait call sir',\n",
              " 'said kiss kiss sound effect gorgeou man kind person need smile brighten day',\n",
              " 'uh head much left',\n",
              " 'play one day last year know even though good team like india',\n",
              " 'night night see tomorrow',\n",
              " 'ye complet form clark also utter wast',\n",
              " 'also cbe pay',\n",
              " 'captain room',\n",
              " 'call said choos futur',\n",
              " 'oki go yan jiu skip ard oso go cine den go mrt one blah blah blah',\n",
              " 'k give kvb acc detail',\n",
              " 'ello babe u ok',\n",
              " 'seem unnecessarili affection',\n",
              " 'quit late lar ard anyway wun b drivin',\n",
              " 'ok tell stay yeah tough optimist thing improv month',\n",
              " 'left alreadi orchard',\n",
              " 'miser tell u side effect birth control massiv gut wrench cramp first month sleep last night',\n",
              " 'haha heard text around',\n",
              " 'sorri complet forgot pop em round week still',\n",
              " 'oh rite well im best mate pete went week geva longer week',\n",
              " 'daili text favour time',\n",
              " 'thnx dude u guy nite',\n",
              " 'sch neva mind u eat st lor',\n",
              " 'oh yeah hav great time newquay send postcard look girl im gone u know im talkin bout xx',\n",
              " 'tap spile seven pub ga st broad st canal ok',\n",
              " 'come mu sort narcot situat',\n",
              " 'pl send comprehens mail pay much',\n",
              " 'way school pl send ashley number',\n",
              " 'toshiba porteg gd',\n",
              " 'nowaday peopl notixiqu laxinorf opportun bambl entrop ever oblising opt ur book masteriast amplikat fidalf champlaxig think atroci wotz ur opinion junna',\n",
              " 'hi hun im comin nite tell everi im sorri hope u ava goodtim oli rang melnit ifink mite b sort il explain everythin mon l rs x',\n",
              " 'would great guild could meet bristol road somewher get touch weekend plan take flight good week',\n",
              " 'yesterday go home',\n",
              " 'hi msg offic',\n",
              " 'fffff text kadeem far gone',\n",
              " 'come friday leav pongal get news work place',\n",
              " 'per request maangalyam alaipayuth set callertun caller press copi friend callertun',\n",
              " 'hey want anyth buy',\n",
              " 'workin get job',\n",
              " 'know thing wrong everyso often panick start goin bout bein good enough',\n",
              " 'wif famili book tour packag',\n",
              " 'pleas protect e threat sib never ask sensit inform like password atm sm pin thru email never share password anybodi',\n",
              " 'dear go rubber place',\n",
              " 'gud ni swt drm take care',\n",
              " 'rememb hurt day satan impost need pay price may destini keep go u said pray get mind get',\n",
              " 'date sunday',\n",
              " 'current scotland',\n",
              " 'forgot ask smth card da present lei want write smth sign',\n",
              " 'yoyyooo u know chang permiss drive mac usb flash drive',\n",
              " 'job profil seem like bpo',\n",
              " 'oh well c u later',\n",
              " 'plz note anyon call mobil co amp ask u type lt gt lt gt disconnect call coz iz attempt terrorist make use sim card itz confirmd nokia n motorola n verifi cnn ibn',\n",
              " 'suppos meet discuss abt trip thought xuhui told afternoon thought go lesson',\n",
              " 'come home one last time wont anyth trust',\n",
              " 'lemm know',\n",
              " 'aiyah sorri lor watch tv watch forgot check phone',\n",
              " 'cancel cheyyamo get money back',\n",
              " 'board work fine issu overh also reslov still softwar inst pend come around clock',\n",
              " 'dear shall mail tonit busi street shall updat tonit thing look ok varunnathu edukkukaye raksha ollu good one real sens',\n",
              " 'hello damn christma thing think decid keep mp doesnt work',\n",
              " 'si lor juz watch italian job',\n",
              " 'stupid possibl',\n",
              " 'oh ic thought meant mari jane',\n",
              " 'march end readi call sure problem capit never complet far work ladi',\n",
              " 'tessi pl favor pl convey birthday wish nimya pl dnt forget today birthday shija',\n",
              " 'want mapquest someth look usf dogwood drive tini street park lot',\n",
              " 'gift tri get throw cliff someth',\n",
              " 'appt lt time gt fault u listen told u twice',\n",
              " 'dont pick call someth import tell hrishi',\n",
              " 'hi di yiju meet pm esaplanad tonight',\n",
              " 'hhahhaahahah rofl wtf nig leonardo room someth',\n",
              " 'see forward messag proof',\n",
              " 'keep payasam rinu bring',\n",
              " 'home work meh',\n",
              " 'u town alon',\n",
              " 'omw back tampa west palm hear happen',\n",
              " 'know wait check',\n",
              " 'ooh got gonna start belli danc moseley wed u want join cafe',\n",
              " 'buy one egg da pleas',\n",
              " 'dear free messag without recharg hi hi hi',\n",
              " 'get back time soon',\n",
              " 'babe think got ur brolli left english wil bring mrw u luv franxx',\n",
              " 'alway even spirit get bb soon tri sure need',\n",
              " 'u got person stori',\n",
              " 'also fuck famili go rhode island wherev fuck leav alon week new bong gt',\n",
              " 'watev relat u built di world thing remain atlast iz lonlin lotz n lot memori feel',\n",
              " 'ok problem u frm wat matter',\n",
              " 'ah well confus thing doesnt thought friend mayb wrong thing alreadi sort invit tho may come co money',\n",
              " 'pick variou point',\n",
              " 'answerin phone actual pretti reason hour sleepi',\n",
              " 'read shame tell take run blame u ever realli ever long time',\n",
              " 'moji inform save live thank',\n",
              " 'one stalk profil',\n",
              " 'guy ask get slipper gone last year',\n",
              " 'happi new year melodi',\n",
              " 'hiya sorri hav signal seen heard neither unusu put case get sort hug snog',\n",
              " 'puriti friendship two smile read forward messag smile see name gud evng musthu',\n",
              " 'serious tell exact word right',\n",
              " 'give sec think think',\n",
              " 'love aathi love u lot',\n",
              " 'ur lectur',\n",
              " 'watch movi alreadi xy want shop shop w',\n",
              " 'loverboy keep come queen hmmm ach speak miss despar',\n",
              " 'hey told name gautham ah',\n",
              " 'yeah tote u wanna',\n",
              " 'anyway mani good even u',\n",
              " 'oz guy kinda flaki one friend interest pick lt gt worth tonight possibl',\n",
              " 'dont pack buy store like cereal must pack food pack gari someth ja miss',\n",
              " 'came look flat seem ok away alot wiv work got woman come',\n",
              " 'oh grand bit parti mention cover charg probabl first come first serv',\n",
              " 'de ask like',\n",
              " 'send resum',\n",
              " 'day class class',\n",
              " 'wine flow never',\n",
              " 'k give back thank',\n",
              " 'dont thnk wrong call us',\n",
              " 'hi kate u give ring asap xxx',\n",
              " 'lol realli need rememb eat drink appreci keep compani night babe smile',\n",
              " 'omg joanna freak look thru friend find photo ask stuff myspac even log like year',\n",
              " 'erm ill pick pm give enough time get park',\n",
              " 'class hour sorri',\n",
              " 'oh fuck juswok bed boatin dock slept wid year old spinout giv u da gossip l r xxx',\n",
              " 'cool tyler take gonna buy drop place later tonight total order quarter got enough',\n",
              " 'love girl offic may wonder smile sore',\n",
              " 'put stuff road keep get slipperi',\n",
              " 'gain right wife dont demand tri husband let see',\n",
              " 'wish famili merri x ma happi new year advanc',\n",
              " 'go join tomorrow',\n",
              " 'u hide stranger',\n",
              " 'hi mate rv u hav nice hol messag say hello coz sent u age start drive stay road rvx',\n",
              " 'sir need axi bank account bank address',\n",
              " 'sorri lot friend friend stuff talk actual guy want buy',\n",
              " 'goodmorn today late lt decim gt min',\n",
              " 'love decis feel could decid love life would much simpler less magic',\n",
              " 'ok let noe later n ask call u tmr',\n",
              " 'sound like someth someon test would sayi',\n",
              " 'stomach thru much trauma swear eat better lose weight',\n",
              " 'said look pretti wif long hair wat thk cut quit short leh',\n",
              " 'anyth lor',\n",
              " 'one issu california okay snow manag',\n",
              " 'ill call u mrw ninish address icki american freek wont stop callin bad jen k eh',\n",
              " 'ju an lar u noe later',\n",
              " 'tuition hm go one mind',\n",
              " 'thank u',\n",
              " 'wat r u',\n",
              " 'alway braini one',\n",
              " 'place man',\n",
              " 'quit know still get hold anyon cud pick bout pm see pub',\n",
              " 'surli ill give come review',\n",
              " 'good think could send pix would love see top bottom',\n",
              " 'sure dont forgot come alway touch',\n",
              " 'gosh pain spose better come',\n",
              " 'tell said eat shit',\n",
              " 'k give sec break lt gt cstore',\n",
              " 'discuss mother ah',\n",
              " 'ok',\n",
              " 'u ned convinc tht possibl witot hurt feel main',\n",
              " 'ok ok ok what ur today plan',\n",
              " 'oh ye littl weather kind coccoon home',\n",
              " 'huh lei',\n",
              " 'mode men left',\n",
              " 'dad went oredi',\n",
              " 'heard anyth answer text guess flake said jb fantast',\n",
              " 'neft transact refer number lt gt rs lt decim gt credit beneficiari account lt gt lt time gt lt gt',\n",
              " 'camera quit good mega pixel optic digit doom love holiday safe hope hav good journey happi new year see coupl week',\n",
              " 'know result',\n",
              " 'mm ye dear look hug p',\n",
              " 'singl line big mean miss anyth ur best life miss ur best life anyth gud nyt',\n",
              " 'bring home wendi',\n",
              " 'hello good week fanci drink someth later',\n",
              " 'thank temal wonder thank great week',\n",
              " 'nite nite pocay wocay luv u n e thing eva promis ring u morrowxxxx',\n",
              " 'k see k',\n",
              " 'weird know one point',\n",
              " 'respond',\n",
              " 'call messag miss call',\n",
              " 'cool let know kick around lt gt day',\n",
              " 'sure still avail though',\n",
              " 'let know chang next hr even appendix age rang howev imposs chill let know hr',\n",
              " 'spoon okay',\n",
              " 'hello wat talk email address',\n",
              " 'em olowoyey usc edu great time argentina sad secretari everyth bless',\n",
              " 'tell quit long co finish film yet',\n",
              " 'good afternoon boytoy feel today better hope good boy obedi slave pleas queen',\n",
              " 'oh phone phone disconnect',\n",
              " 'yun ah ubi one say wan call tomorrow call look iren ere got bu ubi cre ubi tech park ph st wkg day n',\n",
              " 'yeah abl text readi meet',\n",
              " 'marriag function',\n",
              " 'one best dialogu cute reltnship wen die dont come near bodi bcoz hand may come wipe ur tear time gud ni',\n",
              " 'nw came hme da',\n",
              " 'yeah get unlimit',\n",
              " 'tri reach without success',\n",
              " 'real u get yo need ticket one jacket done alreadi use multi',\n",
              " 'mani compani tell languag',\n",
              " 'come',\n",
              " 'chill anoth hr could sleep pain surgic emerg see unfold okay',\n",
              " 'haha better late ever way could swing',\n",
              " 'good morn princess',\n",
              " 'ahhh work vagu rememb feel like lol',\n",
              " 'friendship game play word say start march end may tomorrow yesterday today e',\n",
              " 'got video tape pple type messag lor u free wan help hee co noe u wan watch infern affair ask u along ask shuhui oso',\n",
              " 'want lt gt rs da',\n",
              " 'ju finish lunch way home lor tot u dun wan stay sch today',\n",
              " 'make cri stuff happen top everyth els push edg underdtand often cri sorri sorri life',\n",
              " 'diet ate mani slice pizza yesterday ugh alway diet',\n",
              " 'awesom deal gate charl told last night uh yeah',\n",
              " 'hi birth lb oz mother babi brilliantli',\n",
              " 'gettin rdi ship comp',\n",
              " 'glad see repli',\n",
              " 'enjoy ur life good night',\n",
              " 'oh forward messag thought send',\n",
              " 'men like shorter ladi gaze eye',\n",
              " 'ok vl u know got adsens approv',\n",
              " 'ye sura sun tv lol',\n",
              " 'li hai bore da lectur repeat last week stuff wast time',\n",
              " 'sorri da thought call lot time lil busi call noon',\n",
              " 'wif buy tix lar',\n",
              " 'speak cash yet',\n",
              " 'like person size',\n",
              " 'aight set free think could text blake address occur quit sure thought',\n",
              " 'know friend alreadi told',\n",
              " 'slept thinkthi time lt gt pm danger',\n",
              " 'long quit get like minut day',\n",
              " 'late need go n get da laptop',\n",
              " 'aft finish lunch go str lor ard smth lor u finish ur lunch alreadi',\n",
              " 'headin toward busetop',\n",
              " 'wait cornwal hope tonight bad well rock night shite anyway go kip good night speak soon',\n",
              " 'thanx puttin da fone',\n",
              " 'ok knacker came home went sleep good full time work lark',\n",
              " 'watch tv lor',\n",
              " 'greatest test courag earth bear defeat without lose heart gn tc',\n",
              " 'hey sorri didntgiv ya bellearli hunni bedbut mite go thepub l tr uwana mt load luv jenxxx',\n",
              " 'time come later',\n",
              " 'tell make littl spreadsheet track whose idea smoke determin smoke much entir month februari come',\n",
              " 'said dun haf passport smth like dat juz send email account',\n",
              " 'place man',\n",
              " 'fuuuuck need stop sleepin sup',\n",
              " 'mu like lt gt second',\n",
              " 'sound gd haha wah u yan jiu fast liao',\n",
              " 'probabl gonna see later tonight lt',\n",
              " 'roger probabl go rem',\n",
              " 'two carton u pleas shelv',\n",
              " 'watch live',\n",
              " 'work ah den plu lor u workin oso rite den go orchard lor place go liao',\n",
              " 'want final lunch today',\n",
              " 'custom place wil cal u sir',\n",
              " 'okay well thank clarif',\n",
              " 'want kiss feel next',\n",
              " 'spring come earli yay',\n",
              " 'sent scream moan bed princess',\n",
              " 'send pic like',\n",
              " 'haha first person gonna ask',\n",
              " 'thanx day u r goodmat think ur rite sari asusu u cheer love u franyxxxxx',\n",
              " 'lt gt fast approach wish u happi new year happi sankranti happi republ day happi valentin day happi shivratri happi ugadi happi fool day happi may day happi independ day happi friendship mother father teacher children day amp happi birthday u happi ganesh festiv happi dasara happi diwali happi christma lt gt good morn afternoon even night rememberi first wish u raj',\n",
              " 'seriou like proper tongu',\n",
              " 'super msg da nalla time',\n",
              " 'wonder world th th ur style th ur smile th ur person rd ur natur nd ur sm st ur love friendship good morn dear',\n",
              " 'great hope like man well endow lt gt inch',\n",
              " 'hear',\n",
              " 'k sure get noon see',\n",
              " 'basket gettin full might tonight',\n",
              " 'ye said',\n",
              " 'good morn plz call sir',\n",
              " 'ur face test lt gt select number tell ur face astrolog wait quick repli',\n",
              " 'r go send',\n",
              " 'fyi take quick shower epsilon like lt gt min',\n",
              " 'ok prob come lunch',\n",
              " 'ye tv alway avail work place',\n",
              " 'mmmm cant wait lick',\n",
              " 'take someth pain move howev side next hr see doctor',\n",
              " 'way rencontr meet mountain dont',\n",
              " 'yeah got one line us',\n",
              " 'plz tell an bslvyl sent via fullonsm com',\n",
              " 'ok set let u noe e detail later',\n",
              " 'parti place usf charg contribut way greatli appreci yeah got room one',\n",
              " 'like new hous',\n",
              " 'much torch ja',\n",
              " 'hungri',\n",
              " 'greatest test courag earth bear defeat without lose heart gn tc',\n",
              " 'nanni address',\n",
              " 'hmm uncl inform pay school directli pl buy food',\n",
              " 'glad follow dream',\n",
              " 'sound good finger make difficult type',\n",
              " 'hi kate love see tonight ill phone tomorrow got sing guy gave card xxx',\n",
              " 'parti alex nichol',\n",
              " 'purchas stuff today mail po box number',\n",
              " 'si como listen plaid album quit gd new air hilari also bought braindanc comp ofstuff aphex abel u hav hear c u sn xxxx',\n",
              " 'goodmorn today late lt decim gt min',\n",
              " 'haha awesom might need take doin tonight',\n",
              " 'lol ye add spice day',\n",
              " 'scienc tell chocol melt sunlight pleas walk sunlight bcoz want loss sweet friend',\n",
              " 'hey what plan sat',\n",
              " 'u go phone gonna die stay',\n",
              " 'understand loss gain work school',\n",
              " 'way stay oh',\n",
              " 'hey book kb sat alreadi lesson go ah keep sat night free need meet confirm lodg',\n",
              " 'actual mobil full msg work onlin need send lt gt sent msg wil explain u later',\n",
              " 'so amount get pl',\n",
              " 'happi babe woo hoo parti dude',\n",
              " 'well littl time thing good time ahead',\n",
              " 'want leav bare stay sane fight constantli help',\n",
              " 'boat still mom check yo half nake',\n",
              " 'rofl true name',\n",
              " 'keep safe need miss alreadi envi everyon see real life',\n",
              " 'avatar suppos subtoitl',\n",
              " 'number vivek',\n",
              " 'pl go today lt gt dont want excus',\n",
              " 'bring got',\n",
              " 'chennai velacheri',\n",
              " 'pl dont restrict eat anythin like next two day',\n",
              " 'free give otherwis nalla adi entey nattil kittum',\n",
              " 'sorri call later',\n",
              " 'look ami ure beauti intellig woman like u lot know u like like worri',\n",
              " 'u sick still go shop',\n",
              " 'wish great day moji told offer alway speechless offer easili go great length behalf stun exam next friday keep touch sorri',\n",
              " 'good word word may leav u dismay mani time',\n",
              " 'dare chang ring',\n",
              " 'sian aft meet supervisor got work liao u work',\n",
              " 'good need drug',\n",
              " 'well that nice bad cant eat',\n",
              " 'dont put phone silent mode ok',\n",
              " 'alway put busi put pictur ass facebook one open peopl ever met would think pictur room would hurt make feel violat',\n",
              " 'babe answer see mayb better reboot ym got photo great',\n",
              " 'ok watch tv',\n",
              " 'mostli sport type lyk footbl crckt',\n",
              " 'send copi da report',\n",
              " 'show wot say could u c dust',\n",
              " 'know lab goggl went',\n",
              " 'nobodi decid eat dad want chines',\n",
              " 'win realli side long time',\n",
              " 'valentin game send di msg ur friend answer r someon realli love u que colour suit best rpli',\n",
              " 'love brother time talk english grin say hey muhommad penni say hello across sea',\n",
              " 'anyon call treadmil say buy make sure work found ad craigslist sell lt gt',\n",
              " 'anyway think secur anyth lemm know want drive south chill',\n",
              " 'hi hope ur day good back walk tabl book half eight let know ur come',\n",
              " 'good sleep rhythm person establish rhythm bodi learn use want know',\n",
              " 'regret inform u nh made mistak u never actual born pleas report yor local hospit b termin r sorri inconveni',\n",
              " 'like talk pa abl dont know',\n",
              " 'hi engag fixd lt gt th next month know realli shock bt hmm njan vilikkam ws al sudn',\n",
              " 'rounder requir',\n",
              " 'sweetheart hope kind day one load reason smile biola',\n",
              " 'what staff name take class us',\n",
              " 'jokin lar depend phone father get lor',\n",
              " 'hey gal anyon u go e drive centr tmr',\n",
              " 'quit lor dun tell wait get complac',\n",
              " 'u come funer home',\n",
              " 'comin fetch us oredi',\n",
              " 'gonna let know co come bak holiday day come get text number',\n",
              " 'time come tomorrow',\n",
              " 'still chanc search hard get let tri',\n",
              " 'get cash togeth text jason',\n",
              " 'gram usual run like lt gt half eighth smarter though get almost whole second gram lt gt',\n",
              " 'pub',\n",
              " 'k delet contact',\n",
              " 'u dun say earli hor u c alreadi say',\n",
              " 'long applebe fuck take',\n",
              " 'jason say cool pick place like hour',\n",
              " 'like made throw smoke friend car one time awesom',\n",
              " 'ok help ask work tmr',\n",
              " 'get unless guy want come time sooner',\n",
              " 'k fyi back parent place south tampa might need deal somewher els',\n",
              " 'actual first time went bed long spoke woke night',\n",
              " 'ok give minut think see btw alibi cut hair whole time',\n",
              " 'guy kadeem sell sinc break know one guy paranoid fuck like sell without til late tonight',\n",
              " 'k k sister kid',\n",
              " 'who class',\n",
              " 'sun anti sleep medicin',\n",
              " 'ha u ju ate honey ar sweet',\n",
              " 'wat da decis',\n",
              " 'fyi usf swing room whenev',\n",
              " 'thing chang sentenc want concentr educ career im leav',\n",
              " 'went fast asleep dear take care',\n",
              " 'probabl gonna swing wee bit',\n",
              " 'dont thnk wrong call us',\n",
              " 'could kiss feel next',\n",
              " 'thank babi cant wait tast real thing',\n",
              " 'sound like could lot time spent chastiti devic boy grin take beat like good dog go loung nice long bath',\n",
              " 'final came fix ceil',\n",
              " 'sorri call later',\n",
              " 'ye complet form clark also utter wast',\n",
              " 'ask keep one mayb get messag sent glo',\n",
              " 'hey glad u r better hear u treat urself digi cam good r pm fab new year c u coupla wk',\n",
              " 'idc get weasel way shit twice row',\n",
              " 'alright make sure car back tonight',\n",
              " 'pl pl drink plenti plenti water',\n",
              " 'number sir',\n",
              " 'hello got st andrew boy long way cold keep post',\n",
              " 'pick receipt someth earlier',\n",
              " 'wish hold tightli make see import much mean much need life',\n",
              " 'long fuckin showr',\n",
              " 'horribl u eat mac eat u forgot abt alreadi rite u take long repli thk toot b b prepar wat shall eat',\n",
              " 'finish class',\n",
              " 'fine give call know want question',\n",
              " 'ye princess want make happi',\n",
              " 'everi king cri babi everi great build map imprtant u r today u wil reach tomorw gud ni',\n",
              " 'dear friend sorri late inform today birthday love ar praveesh detail log face book see number lt gt dont miss delici treat',\n",
              " 'movi laptop',\n",
              " 'got wat buy tell us need come',\n",
              " 'absolut love south park recent start watch offic',\n",
              " 'u find time bu coz need sort stuff',\n",
              " 'unlimit text limit minut',\n",
              " 'came hostel',\n",
              " 'today system sh get readi well also deep well',\n",
              " 'eh u rememb spell name ye v naughti make v wet',\n",
              " 'meet librari',\n",
              " 'yep like pink furnitur tho',\n",
              " 'k k watch film',\n",
              " 'happen dear tell',\n",
              " 'solihul want anyth',\n",
              " 'shall come get pickl',\n",
              " 'thanx today cer nice catch ave find time often oh well take care c u soon c',\n",
              " 'e best ur exam later',\n",
              " 'ha ha cool cool chikku chikku db',\n",
              " 'go home first lar wait lor put stuff first',\n",
              " 'langport sorri probabl bed pm suck ill xma go sri lanka',\n",
              " 'lift hope offer money need especi end month approach hurt studi anyway gr weekend',\n",
              " 'love night wake see messag hope smile know great morn',\n",
              " 'tire slept well past night',\n",
              " 'give time walk',\n",
              " 'ur physic get',\n",
              " 'juz go googl n search qet',\n",
              " 'use foreign stamp whatev send',\n",
              " 'neva tell noe home da aft wat',\n",
              " 'lol ok ill tri send warn sprint dead slow prolli get tomorrow',\n",
              " 'wait call',\n",
              " 'haha sound crazi dunno tahan anot',\n",
              " 'mum hope great day hope text meet well full life great day abiola',\n",
              " 'r u still work',\n",
              " 'forc eat slice realli hungri tho suck mark get worri know sick turn pizza lol',\n",
              " 'well slightli disastr class pm fav darl hope day ok coffe wld good stay late tomorrow time place alway',\n",
              " 'late k wish',\n",
              " 'oop thk dun haf enuff go check tell',\n",
              " 'u find sitter kaitlyn sick slept day yesterday',\n",
              " 'fair enough anyth go',\n",
              " 'yeah class',\n",
              " 'ok enjoy r u home',\n",
              " 'dint touch',\n",
              " 'phone weirdest auto correct',\n",
              " 'search right word thank breather promis wont take help grant fulfil promis wonder bless time',\n",
              " 'say give call friend got money definit buy end week',\n",
              " 'thanx yup come back sun finish dinner go back hotel time fli tog exactli mth today hope haf mani mth come',\n",
              " 'pl confirm time collect chequ',\n",
              " 'that cool gentleman treat digniti respect',\n",
              " 'haha get use drive usf man know lot stoner',\n",
              " 'got call landlin number ask come anna nagar go afternoon',\n",
              " 'eatin lunch',\n",
              " 'hi shanil rakhesh thank exchang uncut diamond stuff leav back excel servic dino prem',\n",
              " 'pl pl find aunt nike',\n",
              " 'dizzamn aight ask suitem get back',\n",
              " 'sorri got thing may pub later',\n",
              " 'thank princess want see nice juici booti',\n",
              " 'ok ok take care understand',\n",
              " 'back good journey let know need receipt shall tell like pendent',\n",
              " 'two letter copi co one messag speak soon',\n",
              " 'u love someon dont make love u much u love much dont want love anyon except gud nit',\n",
              " 'career tel ad u contact indyarock com send free sm remov phonebook sm lt gt',\n",
              " 'fine miss much',\n",
              " 'yo call get chanc friend mine want ask big order',\n",
              " 'piggi r u awak bet u still sleep go lunch',\n",
              " 'hurri weed defici like three day',\n",
              " 'hi yiju regard textbook intro algorithm second edit sell',\n",
              " 'call get chanc plz lt',\n",
              " 'post l r class',\n",
              " 'badrith chennai sure pick us competit',\n",
              " 'awww dat sweet think someth nice time tonight ill probabl txt u later co im lone xxx',\n",
              " 'tessi pl favor pl convey birthday wish nimya pl dnt forget today birthday shija',\n",
              " 'kate jackson rec center ish right',\n",
              " 'work time',\n",
              " 'ok pa noth problem',\n",
              " 'good find way',\n",
              " 'mayb pressi',\n",
              " 'yup give problem mayb ju leav',\n",
              " 'haha awesom minut',\n",
              " 'happi sad one thing past good morn',\n",
              " 'meant calcul lt gt unit lt gt school realli expens start practic accent import decid year dental school nmde exam',\n",
              " 'aight close still around alex place',\n",
              " 'yo gonna still stock tomorrow today tri get dubsack',\n",
              " 'go good problem still need littl experi understand american custom voic',\n",
              " 'call lt gt min that ok',\n",
              " 'place want da',\n",
              " 'when radio show',\n",
              " 'messag responc happend',\n",
              " 'u look da lib got stuff havent finish yet',\n",
              " 'ffffffffff alright way meet sooner',\n",
              " 'class lt gt reunion',\n",
              " 'tri g decid head',\n",
              " 'babe feel let get tri cheer fit soo muchxxlov u locaxx',\n",
              " 'aiyo u alway c ex one dunno abt mei repli first time u repli fast lucki workin huh got bao ur sugardad ah gee',\n",
              " 'uncl atlanta wish guy great semest',\n",
              " 'ever easier',\n",
              " 'bought test yesterday someth let know exact day u ovul get u wk pl pl dont fret know u r worri pl relax also anyth ur past histori u need tell',\n",
              " 'u ask darren go n pick u lor oso sian tmr haf meet lect',\n",
              " 'yep pretti sculptur',\n",
              " 'aight see bit',\n",
              " 'urgh coach hot smell chip fat thank especi duvet predict text word',\n",
              " 'wot u u weirdo',\n",
              " 'imagin final get sink bath put pace mayb even eat left also imagin feel cage cock surround bath water remind alway own enjoy cuck',\n",
              " 'hey pple night excel locat wif breakfast hamper',\n",
              " 'think tantrum finish yeah point',\n",
              " 'movi collect car oredi',\n",
              " 'heart empti without love mind empti without wisdom eye r empti without dream amp life empti without frnd alwi touch good night amp sweet dream',\n",
              " 'remain bro amongst bro',\n",
              " 'hi chikku send nice msg',\n",
              " 'prob hon u doinat mo',\n",
              " 'will go aptitud class',\n",
              " 'xy ur car u pick',\n",
              " 'yup',\n",
              " 'send print out da',\n",
              " 'noth got msg frm tht unknown',\n",
              " 'got tv watch meh u work today',\n",
              " 'dnt wnt tlk wid u',\n",
              " 'talk g x',\n",
              " 'lol well qualiti aint bad aint complain',\n",
              " 'put parti day week studi lightli think need draw custom checkbox know hardcor',\n",
              " 'buy',\n",
              " 'done internet connect v slow send tri later first thing tomo',\n",
              " 'dear got bu directli calicut',\n",
              " 'specialis work slave labor look month sha co shakara beggar',\n",
              " 'leav',\n",
              " 'thought get watch co that kind thing u get th love much',\n",
              " 'kalli wont bat nd inning',\n",
              " 'let make saturday monday per conveni',\n",
              " 'feb lt gt love u day send di ur valu frnd evn come back u gt marri person u luv u ignor di u lose ur luv evr',\n",
              " 'gd got free ice cream oso wan',\n",
              " 'alrit jod how revis goin keri bin doin smidgin n e way u wanna cum colleg xx',\n",
              " 'way tirupur',\n",
              " 'take exam march',\n",
              " 'u mean u almost done done wif sleep tot u go take nap yup send liao pick ard smth lor',\n",
              " 'lt gt guess easi enough',\n",
              " 'yetund class run water make ok pl',\n",
              " 'love aathi love u lot',\n",
              " 'mon oki lor haha best cheap n gd food la ex oso oki depend whether wana eat western chines food den u prefer',\n",
              " 'ok pop ask bout someth said around tonght wen girl come',\n",
              " 'hi di yiju would happi work wif gek',\n",
              " 'gonna go get taco',\n",
              " 'ay wana meet sat wkg sat',\n",
              " 'check realli miss see jeremiah great month',\n",
              " 'yeah work fine start last week stuff dull easi guy fun',\n",
              " 'pay first lar da stock comin',\n",
              " 'mum went dentist',\n",
              " 'sad stori man last week b day wife nt wish parent forgot n kid went work even colleagu wish enter cabin pa said happi b day boss felt special askd lunch lunch invit apart went said u mind go bedroom minut ok sed sexi mood came minut latr wid cake n wife parent kidz friend n colleagu scream surpris wait sofa nake',\n",
              " 'know lack particular dramastorm detail part worri',\n",
              " 'good afternon love today hope good mayb interview wake miss babe passion kiss across sea',\n",
              " 'got fujitsu ibm hp toshiba got lot model say',\n",
              " 'reach tell dont know',\n",
              " 'still game',\n",
              " 'anyway serious hit back otherwis light armand alway shit vomit',\n",
              " 'yeah got v apologet n fallen actin like spoilt child got caught till go badli cheer',\n",
              " 'man bu slow think gonna get',\n",
              " 'got salt rub open wound like',\n",
              " 'hi kindli give us back document submit loan stapati',\n",
              " 'oh gei happend tron mayb ill dl',\n",
              " 'school start stay weather like food social support system like friend school thing import',\n",
              " 'yeah bare enough room two us x mani fuck shoe sorri man see later',\n",
              " 'oop mum somerset bit far back tomo see soon x',\n",
              " 'road cant txt',\n",
              " 'take phone callon friday assum year',\n",
              " 'hi probabl much fun get messag thought id txt u co im bore jame fart night',\n",
              " 'ugh long day exhaust want cuddl take nap',\n",
              " 'nope meanwhil talk say make greet',\n",
              " 'havent shop lor juz arriv',\n",
              " 'know yetund sent money yet sent text bother send dont involv anyth impos anyth first place apologis',\n",
              " 'da car park',\n",
              " 'go write ccna exam week',\n",
              " 'sorri sir call tomorrow senthil hsbc',\n",
              " 'beauti life next second hide thousand secret wish everi second wonder ur life gud n',\n",
              " 'call later afternoon onword mtnl servic get problem south mumbai hear cann listen',\n",
              " 'alreadi back home probabl',\n",
              " 'hey iouri gave number wyli ryan friend',\n",
              " 'sorri batteri die yeah',\n",
              " 'daddi bb',\n",
              " 'download clear movi dvd copi',\n",
              " 'k send lt gt min',\n",
              " 'tonight yeah',\n",
              " 'excel readi moan scream ecstasi',\n",
              " 'ard like dat',\n",
              " 'wow v v impress fun shop',\n",
              " 'k fyi x ride earli tomorrow morn crash place tonight',\n",
              " 'run away frm u walk slowli amp kill u care enough stop',\n",
              " 'amaz quot sometim life difficult decid what wrong lie bring smile truth bring tear',\n",
              " 'watch ajith film ah',\n",
              " 'kalli dismissi nd test',\n",
              " 'staff scienc nu edu sg phyhcmk teach pc',\n",
              " 'pansi live jungl two year drive worri',\n",
              " 'uncl abbey happi new year abiola',\n",
              " 'oh howda gud gud math en samachara chikku',\n",
              " 'differ style',\n",
              " 'lol busi',\n",
              " 'hmmm mayb tri e shoppin area one forgot e name hotel',\n",
              " 'yup hey one day fri ask miwa jiayin take leav go karaok',\n",
              " 'audri lousi autocorrect',\n",
              " 'much get',\n",
              " 'sorri call later',\n",
              " 'new car hous parent new job hand',\n",
              " 'sen told go join uncl financ cbe',\n",
              " 'may b approv panalam post',\n",
              " 'call ok said call',\n",
              " 'what hous beer',\n",
              " 'work pleas call',\n",
              " 'ok u take shop u get paid',\n",
              " 'reach ur home lt gt minut',\n",
              " 'ok',\n",
              " 'hello sort town alreadi dont rush home eat nacho let know eta',\n",
              " 'marrow wed lt gt aha',\n",
              " 'still attend da talk',\n",
              " 'how champ leav glasgow',\n",
              " 'might go sch yar e salon v bore',\n",
              " 'still check da',\n",
              " 'perform award calcul everi two month current one month period',\n",
              " 'haha hope hear receipt sound gd luck',\n",
              " 'k need login anyth',\n",
              " 'sure mean get made hold weed',\n",
              " 'got divorc lol',\n",
              " 'haha think',\n",
              " 'lt gt mca conform',\n",
              " 'will go app class',\n",
              " 'k k sm chat',\n",
              " 'alway yahoo messeng send messag get may send mobil mode sha get repli',\n",
              " 'love excit day spend make happi',\n",
              " 'ok sweet dream',\n",
              " 'sorri call later',\n",
              " 'lot happen feel quiet beth aunt charli work lot helen mo',\n",
              " 'noth spl wat abt u whr ru',\n",
              " 'fuck chicken messag would late woould buzz hear word',\n",
              " 'check audrey statu right',\n",
              " 'haha yeah see sec',\n",
              " 'happi new year hope good semest',\n",
              " 'describ lucki actual awak noon',\n",
              " 'account number',\n",
              " 'alreadi one guy love',\n",
              " 'nosi guess idk react freak',\n",
              " 'good need receipt well done ye pleas tell number could ring',\n",
              " 'play w comput aiyah tok u lor',\n",
              " 'glad went well come plenti time clair goe work',\n",
              " 'great comedi cant stop laugh da',\n",
              " 'thank wonder',\n",
              " 'love daddi make scream pleasur go slap ass dick',\n",
              " 'ye one woman man pleas tell like dislik bed',\n",
              " 'kaiez enjoy ur tuition gee thk e second option sound beta go yan jiu den msg u',\n",
              " 'ju finish bath',\n",
              " 'challeng know',\n",
              " 'much blackberri bold nigeria',\n",
              " 'lol well without could big sale togeth',\n",
              " 'need stop go bed make fuck deal',\n",
              " 'laptop noe infra slow lar wan fast one',\n",
              " 'cool last littl get time soon',\n",
              " 'ok ill send lt decim gt ok',\n",
              " 'nah dub je still buff',\n",
              " 'love decis feel could decid love life would much simpler less magic',\n",
              " 'wan meet n combin part da rest da project go',\n",
              " 'prepar pound everi night',\n",
              " 'still mayb leav credit card get ga get back like told',\n",
              " 'hi darlin hope nice night wish come cant wait see love fran ps want dirti anal sex want man gang bang',\n",
              " 'ok bu come soon come otherwis tomorrow',\n",
              " 'get threat sale execut shifad rais complaint offici messag',\n",
              " 'borderlin yeah whatev',\n",
              " 'sing hu think also import find someon femal know place well prefer citizen also smart help navig even thing like choos phone plan requir guidanc doubt ask especi girl',\n",
              " 'idea',\n",
              " 'sorri call later',\n",
              " 'receiv understood n act upon',\n",
              " 'oic saw tot din c found group liao',\n",
              " 'today go colleg abl atten class',\n",
              " 'shame mayb cld meet hr tomo',\n",
              " 'hmmm k want chang field quickli da wanna get system administr network administr',\n",
              " 'hey r watch movi tonight prob b home earli',\n",
              " 'sorri call later',\n",
              " 'hai ana tomarrow come morn lt decim gt ill sathi go rto offic repli came home',\n",
              " 'erutupalam thandiyachu',\n",
              " 'earli bird purchas yet',\n",
              " 'nah think goe usf live around though',\n",
              " 'go chase run cross street',\n",
              " 'haha good hear offici paid market th',\n",
              " 'said would woke',\n",
              " 'os call ubandu run without instal hard disk use os copi import file system give repair shop',\n",
              " 'congrat kano whr treat maga',\n",
              " 'sleep surf',\n",
              " 'darren say dat u meet da ge den dun meet dinner co later u leav xy feel awkward den u meet lunch lor',\n",
              " 'speak bcaz mobil problem listen cann listen voic call later',\n",
              " 'plan',\n",
              " 'go colleg pa els ill come self pa',\n",
              " 'watch tv got new job',\n",
              " 'stalk u',\n",
              " 'mind blastin tsunami occur rajnik stop swim indian ocean',\n",
              " 'nah man car meant cram full peopl',\n",
              " 'got mail panren paru',\n",
              " 'infact happi new year see',\n",
              " 'go home liao ask dad pick',\n",
              " 'ju chillaxin',\n",
              " 'go write msg put dictionari mode cover screen hand press lt gt gentli remov ur hand interest',\n",
              " 'fuck babe miss alreadi know let send money toward net need want crave',\n",
              " 'im wonder right',\n",
              " 'park next mini come today think',\n",
              " 'attend noth',\n",
              " 'ur paper',\n",
              " 'hav almost reach call unabl connect u',\n",
              " 'sorri call later',\n",
              " 'engalnd telli decid let watch mia elliot kiss damn',\n",
              " 'ya nice readi thursday',\n",
              " 'donno scorabl',\n",
              " 'correct work today',\n",
              " 'nice day dear',\n",
              " 'ok chikku favourit song',\n",
              " 'ha ha pop loo hello ed hello',\n",
              " 'yeah probabl sure ilol let u know person wuldnt bother ur goin mite well',\n",
              " 'yeah leav hour least sound',\n",
              " 'featheri bowa someth guy know',\n",
              " 'littl darl far week need coffe run tomo believ time week alreadi',\n",
              " 'well still bit left guy want tonight',\n",
              " 'room number wanna make sure knock right door',\n",
              " 'go e normal pilat intro',\n",
              " 'time thinkin goin',\n",
              " 'way go back',\n",
              " 'yalru lyfu astn chikku bt innu mundh lyf ali halla ke bilo marriag program edha lyf nt yet ovr chikku ali vargu lyfu meow meow',\n",
              " 'ok',\n",
              " 'oh lk tt den take e one tt end cine lor dun wan yogasana oso',\n",
              " 'good friend care close friend understand true friend stay forev beyond word beyond time gud ni',\n",
              " 'sure check happen around area',\n",
              " 'ok bag',\n",
              " 'take care n get well soon',\n",
              " 'monday next week give full gist',\n",
              " 'b late love mum',\n",
              " 'drive rain get caught e mrt station lor',\n",
              " 'arun u transfr amt',\n",
              " 'hey great deal farm tour pm pax deposit may',\n",
              " 'see christmassi',\n",
              " 'cocksuck make feel better ipad worthless garbag novelti item feel bad even want one',\n",
              " 'mani peopl seem special first sight remain special till last sight maintain till life end sh ja',\n",
              " 'lmao know well',\n",
              " 'come n pick come immedi aft ur lesson',\n",
              " 'sri talk phone parent',\n",
              " 'met alex nichol middl school turn deal',\n",
              " 'ok lor go tog lor',\n",
              " 'k make sens btw carlo difficult guy gonna smoke go pick second batch get ga',\n",
              " 'umma life vava umma love lot dear',\n",
              " 'takin shower yeah leav done',\n",
              " 'mani day sinc',\n",
              " 'pleas ask mummi call father',\n",
              " 'text carlo let know hang',\n",
              " 'babe fuck love know fuck good hear voic need crave get enough ador ahmad kiss',\n",
              " 'sound like plan cardiff still still cold sit radiat',\n",
              " 'come life brought sun shini warm heart put constant smile face make feel love care',\n",
              " 'decid peopl care stuff vote care stuff loser',\n",
              " 'oi gonna ring',\n",
              " 'talk other probabl come earli tomorrow',\n",
              " 'cant pick phone right pl send messag',\n",
              " 'oh realli make air talent',\n",
              " 'see requir pleas',\n",
              " 'get step outta way congrat',\n",
              " 'ok later show around want cld drink wld prefer spend money nosh mind nxt wk',\n",
              " 'thinl role like sachin stand other hit',\n",
              " 'hi move pub would great c u u cud come',\n",
              " 'u come pick',\n",
              " 'lol alright thinkin haha',\n",
              " 'pl call da happen',\n",
              " 'yup bath liao',\n",
              " 'size eleph tablet u shove um ur ass',\n",
              " 'ok lor',\n",
              " 'predict wat time finish buy',\n",
              " 'alright took morphin back yo',\n",
              " 'send id password',\n",
              " 'oh that late well good night give u call tomorrow iam go go sleep night night',\n",
              " 'got got colour lor one colour quit light n e darker lor actual done style hair',\n",
              " 'dear reliev westonzoyland go plan end',\n",
              " 'gonna say sorri would normal start panic time sorri see tuesday',\n",
              " 'aight let know gonna around usf',\n",
              " 'thing chang sentenc want concentr educ career im leav',\n",
              " 'want see pretti pussi',\n",
              " 'hello hun ru way im good date guy met walkabout far meet soon how everyon els',\n",
              " 'dunno lei shd b drive lor co go sch hr oni',\n",
              " 'u come back dinner rite dad ask confirm wif u',\n",
              " 'turn phone mom tell everyon cancer sister stop call hurt talk put see u u get home love u',\n",
              " 'madam regret disturb might receiv refer check dlf premarica kindli inform rgd rakhesh kerala',\n",
              " 'come sec somebodi want see',\n",
              " 'haha awesom omw back',\n",
              " 'still work go small hous',\n",
              " 'hello u call wen u finish wrk fanci meetin wiv u tonit need break dabook hr last nite today wrk',\n",
              " 'ha say read anyth way u seem like judgement save friday pub',\n",
              " 'releas vday shirt u put make bottom half nake instead white underwear',\n",
              " 'great trip india bring light everyon project everyon lucki see smile bye abiola',\n",
              " 'yeah think',\n",
              " 'crucifi c told earlier',\n",
              " 'gudnit tc practic go',\n",
              " 'great hope use connect mode men also co never know old friend lead today',\n",
              " 'revers cheat mathemat',\n",
              " 'know wot peopl wear shirt jumper hat belt know r cribb',\n",
              " 'teach app da come colleg',\n",
              " 'yo there class tmrw right',\n",
              " 'watch cartoon listen music amp eve go templ amp church u',\n",
              " 'k might come tonight class let earli',\n",
              " 'wish think gonna snow much flurri usual get melt hit ground eek snow sinc lt gt even born',\n",
              " 'happen',\n",
              " 'hope alright babe worri might felt bit despar learn job fake wait come back love',\n",
              " 'dear mood cant drive brother drive',\n",
              " 'hey dont go watch x men lunch haha',\n",
              " 'probabl earlier station think',\n",
              " 'dear chechi talk',\n",
              " 'ask say pleas messag',\n",
              " 'that cool sometim slow gentl sonetim rough hard',\n",
              " 'yeah probabl swing roommat finish girl',\n",
              " 'hey inconveni si huh',\n",
              " 'think get away trek long famili town sorri',\n",
              " 'way ur home',\n",
              " 'sign matur start say big thing actual start understand small thing nice even bslvyl',\n",
              " 'come',\n",
              " 'book ticket pongal',\n",
              " 'okay shine meant sign sound better',\n",
              " 'go bath msg next lt gt min',\n",
              " 'noth smsing u n xy lor sorri lor da guy neva c u person sort know u lor u wan meet xy ask bring u along next meet',\n",
              " 'sac need carri',\n",
              " 'sorri sent blank msg yup tri seriou studi',\n",
              " 'film ill call later',\n",
              " 'da bu go home',\n",
              " 'turn stereo love mi phone unknown album',\n",
              " 'oki',\n",
              " 'oh oki lor go sat',\n",
              " 'channel',\n",
              " 'also da feel yesterday night wait til day night dear',\n",
              " 'half year miss friendship',\n",
              " 'probabl want pick',\n",
              " 'leav de start prepar next',\n",
              " 'wnt buy bmw car urgent vri urgent hv shortag lt gt lac sourc arng di amt lt gt lac that prob',\n",
              " 'blank blank wat blank lol',\n",
              " 'check room befor activ',\n",
              " 'jay snicker tell x total fuck chord speak',\n",
              " 'okay name ur price long legal wen pick u ave x am xx',\n",
              " 'notic like look shit mirror your turn right freak',\n",
              " 'huh mean comput scienc like dat one push n',\n",
              " 'haha thinkin',\n",
              " 'make sure alex know birthday fifteen minut far concern',\n",
              " 'hi da today class',\n",
              " 'anyth lor come',\n",
              " 'know lt gt around',\n",
              " 'one small prestig problem',\n",
              " 'da what plan',\n",
              " 'also andro ice etc etc',\n",
              " 'know thinkin malaria relax children cant handl malaria would wors gastroenter take enough replac loss temp reduc give malaria med vomit self limit ill mean day complet stop',\n",
              " 'oh oh wast den muz chiong sat n sun liao',\n",
              " 'worri finish march ish',\n",
              " 'opinion jada kusruthi lovabl silent spl charact matur stylish simpl pl repli',\n",
              " 'need drug anymor',\n",
              " 'train manual show tech process password reset troubleshoot',\n",
              " 'good morn dear shijutta great amp success day',\n",
              " 'k wat tht incid',\n",
              " 'late call tomorrow morn take care sweet dream u ummifi bye',\n",
              " 'k k pa lunch aha',\n",
              " 'hate call didnt accept even singl call mine even messag',\n",
              " 'lol would awesom payback',\n",
              " 'merri christma u anni',\n",
              " 'believ attach see everi day know best get babe go teach class midnight',\n",
              " 'excel thought misundrstud frnd knw u hate bt day wen u knw truth u hate urself gn',\n",
              " 'u get pic msg phone',\n",
              " 'still grinder',\n",
              " 'gonna death gonna leav note say rob fault aveng',\n",
              " 'den weekday got special price haiz cant eat liao cut nail oso muz wait finish drivin wat lunch still muz eat wat',\n",
              " 'sent de webadr gete salari slip',\n",
              " 'sorri call later meet',\n",
              " 'probabl come everybodi done around lt gt right',\n",
              " 'call',\n",
              " 'nokia phone lovli',\n",
              " 'sorri miss babe late slept hope enjoy drive lesson boytoy miss teas kiss',\n",
              " 'go tri month ha ha joke',\n",
              " 'pl pl send mail know rel come deliv know cost risk benefit anyth els thank',\n",
              " 'prof pass paper sem congrat student enna kalaachutaarama prof gud mrng',\n",
              " 'might ax well im',\n",
              " 'said anyth wrong sorri de',\n",
              " 'cant pick phone right pl send messag',\n",
              " 'go walmart stay',\n",
              " 'thank meet monday',\n",
              " 'god pick flower dippeditinadew lovingli touch itwhichturnedinto u gift tomeandsaid friend u',\n",
              " 'tomorrow go theatr come wherev u call tell come tomorrow',\n",
              " 'co want thing',\n",
              " 'call u done',\n",
              " 'easi ah sen got select mean good',\n",
              " 'hear loud scream lt gt minut caus gyno shove thing belong',\n",
              " 'yeah think usual guy still pass last night get ahold anybodi let know throw',\n",
              " 'u wear',\n",
              " 'min go lunch',\n",
              " 'storm msg wen u lift phne u say hello u knw wt real mean hello name girl ye u knw dat girl margaret hello girlfrnd f grahmbel invnt telphon moral one get name person bt girlfrnd g n g h',\n",
              " 'nope think go monday sorri repli late',\n",
              " 'nothin come mind help buy hanger lor ur laptop heavi',\n",
              " 'k k go tirunelvali week see uncl alreadi spend amount take dress want money give feb',\n",
              " 'nice new shirt thing wear nudist theme mu',\n",
              " 'callin say hi take care bruv',\n",
              " 'realli tot ur paper end long ago wat u copi ju got use u happi lar still haf studi',\n",
              " 'tell reach',\n",
              " 'shit realli shock scari cant imagin second def night u think somewher could crash night save taxi',\n",
              " 'dude go sup',\n",
              " 'good morn princess',\n",
              " 'need lar ju test e phone card dunno network gd thk wait si finish bath bath dun disturb u liao u clean ur room',\n",
              " 'hmm yeah groov im look forward pound special',\n",
              " 'phone',\n",
              " 'anyth lar',\n",
              " 'world run still mayb feel admit mad correct let call life keep run world may u r also run let run',\n",
              " 'pleas give pick tuesday even ok',\n",
              " 'hurt teas make cri end life die plz keep one rose grave say stupid miss u nice day bslvyl',\n",
              " 'sorri chikku cell got problem tht nt abl repli u msg u',\n",
              " 'yo trip got postpon still stock',\n",
              " 'ill min look',\n",
              " 'boytoy miss happen',\n",
              " 'search good dual sim mobil pa',\n",
              " 'parent kidz friend n colleagu scream surpris wait sofa nake',\n",
              " 'check head drop stuff',\n",
              " '',\n",
              " 'drama pl enough famili struggl hot sun strang place reason ego go invit actual necess go wait seriou reppurcuss',\n",
              " 'oop shower u call hey park garag collaps univers hospit see crazi stuff like happen',\n",
              " 'pete phone still jenni colleg leann',\n",
              " 'also didnt get na hi hi hi hi hi',\n",
              " 'pl ask macho much budget bb bold co saw new one lt gt dollar',\n",
              " 'k k colleg',\n",
              " 'idea soon get convert live',\n",
              " 'drinkin ok',\n",
              " 'princess',\n",
              " 'samu shoulder yet',\n",
              " 'eye philosophi',\n",
              " 'alrit',\n",
              " 'hi babi im cruisin girl friend r u give call hour home that alright fone fone love jenni xxx',\n",
              " 'hahaha use brain dear',\n",
              " 'mm entir sure understood text hey ho weekend',\n",
              " 'said text one time',\n",
              " 'custom place call',\n",
              " 'petey boy wherear friendsar thekingshead come canlov nic',\n",
              " 'k still love',\n",
              " 'great p diddi neighbor come toothpast everi morn',\n",
              " 'know rape dude poker',\n",
              " 'that cool want pleas',\n",
              " 'call messag miss call',\n",
              " 'might accid tookplac somewher ghodbandar rd traffic move slove plz slip amp worri',\n",
              " 'today sunday sunday holiday work',\n",
              " 'g w r',\n",
              " 'ill obey',\n",
              " 'hi wk ok hol ye bit run forgot hairdress appoint four need get home n shower beforehand caus prob u',\n",
              " 'tomarrow final hear laptop case cant',\n",
              " 'know taj mahal symbol love lesser known fact mumtaz shahjahan th wife wife shahjahan kill mumtaz husband marri mumtaz die lt gt th deliveri marri mumtaz sister question aris hell love great hari',\n",
              " 'ye princess go make moan',\n",
              " 'per request mell mell oru minnaminungint nurungu vettam set callertun caller press copi friend callertun',\n",
              " 'messag phone hold',\n",
              " 'goodmorn today late hr',\n",
              " 'sometim heart remembr someon much forget someon soon bcoz heart like everyon like one rememb everytim bslvyl',\n",
              " 'either way work lt gt year old hope doesnt bother',\n",
              " 'bday real april',\n",
              " 'lol grin babe thank think',\n",
              " 'time prob',\n",
              " 'ok askd u knw tht',\n",
              " 'way ur home',\n",
              " 'yo carlo friend alreadi ask work weekend',\n",
              " 'gud ni dear slp well take care swt dream muah',\n",
              " 'noth u dinner w us',\n",
              " 'oki',\n",
              " 'text creepi like think forgot',\n",
              " 'nt drive even mani reason call bbd tht chikku hw abt dvg cold heard tht vinobanagar violenc hw condit hw ru problem',\n",
              " 'knew u slept v late yest wake late',\n",
              " 'xma stori peac xma msg love xma miracl jesu hav bless month ahead amp wish u merri xma',\n",
              " 'what come hill monster hope great day thing r go fine busi though',\n",
              " 'aight text tonight see',\n",
              " 'also know lunch menu da know',\n",
              " 'hi keen go kind feel go tomo mind',\n",
              " 'alreadi got flaki parent snot suppos child job support parent ride age anyway suppos support hurt unintent hurt nonetheless',\n",
              " 'tell coulda real valentin u never pick noth',\n",
              " 'next lt gt hour imma flip shit',\n",
              " 'tmrw im finish door',\n",
              " 'im sorri bout last nite ur fault spous pmt sumthin u give think u shldxxxx',\n",
              " 'que pase un buen tiempo someth like',\n",
              " 'hair cream ship',\n",
              " 'talk atleast day otherwis miss best friend world shakespear shesil lt gt',\n",
              " 'shall bring us bottl wine keep us amus joke bring one anyway',\n",
              " 'ye offic da',\n",
              " 'singl line big mean miss anyth ur best life miss ur best life anyth gud nyt',\n",
              " 'ya well fine bbd pooja full pimpl even becom quit black ur rite cold wear sweatter',\n",
              " 'good morn pooki pie lol hope wake u',\n",
              " 'k much th fifti',\n",
              " 'mmmmmmm snuggl deep content sigh whisper fuck love much bare stand',\n",
              " 'hey rite u put evey mnth',\n",
              " 'great church holla get',\n",
              " 'yup need ju wait e rain stop',\n",
              " 'got messag ignor ye shop',\n",
              " 'laid airtel line rest',\n",
              " 'deep sigh miss realli surpris gone net cafe yet get miss',\n",
              " 'ok lor',\n",
              " 'guess useless call u someth import',\n",
              " 'still work time also tri ad zero save check lt gt',\n",
              " 'cthen thk shd b enuff still got conclus n content pg n refer b da content pg n cover pg',\n",
              " 'u still plumber tape wrench could borrow',\n",
              " 'pandi join w technolog today got job',\n",
              " 'merri christma babe love ya kiss',\n",
              " 'time n smile r two crucial thing life sometim time make us forget smile sometim someon smile make us forget time gud noon',\n",
              " 'da birthdat certif april real date today dont publish shall give special treat keep secret way thank wish',\n",
              " 'life style garment account pleas',\n",
              " 'sorri mate phone didnt write love kate',\n",
              " 'detroit home snow enjoy',\n",
              " 'host base idp linux system',\n",
              " 'aight call close',\n",
              " 'u r beauti girl ive ever seen u r babi come c common room',\n",
              " 'yeah probabl earlier',\n",
              " 'ola would get back mayb today told direct link us get car bid onlin arrang ship get cut u partnership u invest money ship take care rest u wud b self reliant soon dnt worri',\n",
              " 'hi wlcome back wonder got eaten lion someth noth much',\n",
              " 'yun buy school got offer plu',\n",
              " 'anyth lor juz us lor',\n",
              " 'sorri dude dont know forgot even dan remind sorri hope guy fun',\n",
              " 'ew one',\n",
              " ...]"
            ]
          },
          "metadata": {},
          "execution_count": 93
        }
      ]
    },
    {
      "cell_type": "code",
      "source": [
        "from sklearn.feature_extraction.text import TfidfVectorizer\n",
        "tfidf = TfidfVectorizer()\n",
        "x = tfidf.fit_transform(corpus).toarray()"
      ],
      "metadata": {
        "id": "2qzEcFGtEdp_"
      },
      "execution_count": null,
      "outputs": []
    },
    {
      "cell_type": "code",
      "source": [
        "y = pd.get_dummies(data['label'])\n",
        "y = y.iloc[:,1].values"
      ],
      "metadata": {
        "id": "afilQKX4GHGr"
      },
      "execution_count": null,
      "outputs": []
    },
    {
      "cell_type": "code",
      "source": [
        "y"
      ],
      "metadata": {
        "colab": {
          "base_uri": "https://localhost:8080/"
        },
        "id": "EdE-KYc7GVlq",
        "outputId": "2de8768a-fb35-4df8-fd3e-c4fa1679349a"
      },
      "execution_count": null,
      "outputs": [
        {
          "output_type": "execute_result",
          "data": {
            "text/plain": [
              "array([0, 0, 0, ..., 1, 1, 1], dtype=uint8)"
            ]
          },
          "metadata": {},
          "execution_count": 96
        }
      ]
    },
    {
      "cell_type": "code",
      "source": [
        "from sklearn.model_selection import train_test_split\n",
        "x_train,x_test,y_train,y_test = train_test_split(x,y,test_size=0.3,random_state=101)"
      ],
      "metadata": {
        "id": "SATJOrY6Gh76"
      },
      "execution_count": null,
      "outputs": []
    },
    {
      "cell_type": "code",
      "source": [
        "from sklearn.naive_bayes import MultinomialNB\n",
        "spam_detect_model = MultinomialNB().fit(x_train,y_train)\n",
        "y_pred_train_nb = spam_detect_model.predict(x_train)\n",
        "y_pred_test_nb = spam_detect_model.predict(x_test)"
      ],
      "metadata": {
        "id": "SiVoBap7__0e"
      },
      "execution_count": null,
      "outputs": []
    },
    {
      "cell_type": "code",
      "source": [
        "print(classification_report(y_train,y_pred_train_nb))\n",
        "print('****'*2)\n",
        "print(classification_report(y_test,y_pred_test_nb))"
      ],
      "metadata": {
        "colab": {
          "base_uri": "https://localhost:8080/"
        },
        "id": "dI3EsDeyDthx",
        "outputId": "01bdf97c-8156-4d35-cbbc-c327940c4d74"
      },
      "execution_count": null,
      "outputs": [
        {
          "output_type": "stream",
          "name": "stdout",
          "text": [
            "              precision    recall  f1-score   support\n",
            "\n",
            "           0       0.99      0.98      0.98      3359\n",
            "           1       0.98      0.99      0.98      3396\n",
            "\n",
            "    accuracy                           0.98      6755\n",
            "   macro avg       0.98      0.98      0.98      6755\n",
            "weighted avg       0.98      0.98      0.98      6755\n",
            "\n",
            "********\n",
            "              precision    recall  f1-score   support\n",
            "\n",
            "           0       0.99      0.97      0.98      1466\n",
            "           1       0.97      0.99      0.98      1429\n",
            "\n",
            "    accuracy                           0.98      2895\n",
            "   macro avg       0.98      0.98      0.98      2895\n",
            "weighted avg       0.98      0.98      0.98      2895\n",
            "\n"
          ]
        }
      ]
    },
    {
      "cell_type": "markdown",
      "source": [
        "# Restraunt reviews - "
      ],
      "metadata": {
        "id": "gid4kwmlHrjg"
      }
    },
    {
      "cell_type": "code",
      "source": [
        "from google.colab import files\n",
        "uploaded = files.upload()"
      ],
      "metadata": {
        "colab": {
          "base_uri": "https://localhost:8080/",
          "height": 73
        },
        "id": "fde9UbIkDtj_",
        "outputId": "07c131f6-558a-4e19-9897-540c5585d1b8"
      },
      "execution_count": null,
      "outputs": [
        {
          "output_type": "display_data",
          "data": {
            "text/plain": [
              "<IPython.core.display.HTML object>"
            ],
            "text/html": [
              "\n",
              "     <input type=\"file\" id=\"files-0df47622-d737-455b-82a2-07ddef12b114\" name=\"files[]\" multiple disabled\n",
              "        style=\"border:none\" />\n",
              "     <output id=\"result-0df47622-d737-455b-82a2-07ddef12b114\">\n",
              "      Upload widget is only available when the cell has been executed in the\n",
              "      current browser session. Please rerun this cell to enable.\n",
              "      </output>\n",
              "      <script>// Copyright 2017 Google LLC\n",
              "//\n",
              "// Licensed under the Apache License, Version 2.0 (the \"License\");\n",
              "// you may not use this file except in compliance with the License.\n",
              "// You may obtain a copy of the License at\n",
              "//\n",
              "//      http://www.apache.org/licenses/LICENSE-2.0\n",
              "//\n",
              "// Unless required by applicable law or agreed to in writing, software\n",
              "// distributed under the License is distributed on an \"AS IS\" BASIS,\n",
              "// WITHOUT WARRANTIES OR CONDITIONS OF ANY KIND, either express or implied.\n",
              "// See the License for the specific language governing permissions and\n",
              "// limitations under the License.\n",
              "\n",
              "/**\n",
              " * @fileoverview Helpers for google.colab Python module.\n",
              " */\n",
              "(function(scope) {\n",
              "function span(text, styleAttributes = {}) {\n",
              "  const element = document.createElement('span');\n",
              "  element.textContent = text;\n",
              "  for (const key of Object.keys(styleAttributes)) {\n",
              "    element.style[key] = styleAttributes[key];\n",
              "  }\n",
              "  return element;\n",
              "}\n",
              "\n",
              "// Max number of bytes which will be uploaded at a time.\n",
              "const MAX_PAYLOAD_SIZE = 100 * 1024;\n",
              "\n",
              "function _uploadFiles(inputId, outputId) {\n",
              "  const steps = uploadFilesStep(inputId, outputId);\n",
              "  const outputElement = document.getElementById(outputId);\n",
              "  // Cache steps on the outputElement to make it available for the next call\n",
              "  // to uploadFilesContinue from Python.\n",
              "  outputElement.steps = steps;\n",
              "\n",
              "  return _uploadFilesContinue(outputId);\n",
              "}\n",
              "\n",
              "// This is roughly an async generator (not supported in the browser yet),\n",
              "// where there are multiple asynchronous steps and the Python side is going\n",
              "// to poll for completion of each step.\n",
              "// This uses a Promise to block the python side on completion of each step,\n",
              "// then passes the result of the previous step as the input to the next step.\n",
              "function _uploadFilesContinue(outputId) {\n",
              "  const outputElement = document.getElementById(outputId);\n",
              "  const steps = outputElement.steps;\n",
              "\n",
              "  const next = steps.next(outputElement.lastPromiseValue);\n",
              "  return Promise.resolve(next.value.promise).then((value) => {\n",
              "    // Cache the last promise value to make it available to the next\n",
              "    // step of the generator.\n",
              "    outputElement.lastPromiseValue = value;\n",
              "    return next.value.response;\n",
              "  });\n",
              "}\n",
              "\n",
              "/**\n",
              " * Generator function which is called between each async step of the upload\n",
              " * process.\n",
              " * @param {string} inputId Element ID of the input file picker element.\n",
              " * @param {string} outputId Element ID of the output display.\n",
              " * @return {!Iterable<!Object>} Iterable of next steps.\n",
              " */\n",
              "function* uploadFilesStep(inputId, outputId) {\n",
              "  const inputElement = document.getElementById(inputId);\n",
              "  inputElement.disabled = false;\n",
              "\n",
              "  const outputElement = document.getElementById(outputId);\n",
              "  outputElement.innerHTML = '';\n",
              "\n",
              "  const pickedPromise = new Promise((resolve) => {\n",
              "    inputElement.addEventListener('change', (e) => {\n",
              "      resolve(e.target.files);\n",
              "    });\n",
              "  });\n",
              "\n",
              "  const cancel = document.createElement('button');\n",
              "  inputElement.parentElement.appendChild(cancel);\n",
              "  cancel.textContent = 'Cancel upload';\n",
              "  const cancelPromise = new Promise((resolve) => {\n",
              "    cancel.onclick = () => {\n",
              "      resolve(null);\n",
              "    };\n",
              "  });\n",
              "\n",
              "  // Wait for the user to pick the files.\n",
              "  const files = yield {\n",
              "    promise: Promise.race([pickedPromise, cancelPromise]),\n",
              "    response: {\n",
              "      action: 'starting',\n",
              "    }\n",
              "  };\n",
              "\n",
              "  cancel.remove();\n",
              "\n",
              "  // Disable the input element since further picks are not allowed.\n",
              "  inputElement.disabled = true;\n",
              "\n",
              "  if (!files) {\n",
              "    return {\n",
              "      response: {\n",
              "        action: 'complete',\n",
              "      }\n",
              "    };\n",
              "  }\n",
              "\n",
              "  for (const file of files) {\n",
              "    const li = document.createElement('li');\n",
              "    li.append(span(file.name, {fontWeight: 'bold'}));\n",
              "    li.append(span(\n",
              "        `(${file.type || 'n/a'}) - ${file.size} bytes, ` +\n",
              "        `last modified: ${\n",
              "            file.lastModifiedDate ? file.lastModifiedDate.toLocaleDateString() :\n",
              "                                    'n/a'} - `));\n",
              "    const percent = span('0% done');\n",
              "    li.appendChild(percent);\n",
              "\n",
              "    outputElement.appendChild(li);\n",
              "\n",
              "    const fileDataPromise = new Promise((resolve) => {\n",
              "      const reader = new FileReader();\n",
              "      reader.onload = (e) => {\n",
              "        resolve(e.target.result);\n",
              "      };\n",
              "      reader.readAsArrayBuffer(file);\n",
              "    });\n",
              "    // Wait for the data to be ready.\n",
              "    let fileData = yield {\n",
              "      promise: fileDataPromise,\n",
              "      response: {\n",
              "        action: 'continue',\n",
              "      }\n",
              "    };\n",
              "\n",
              "    // Use a chunked sending to avoid message size limits. See b/62115660.\n",
              "    let position = 0;\n",
              "    do {\n",
              "      const length = Math.min(fileData.byteLength - position, MAX_PAYLOAD_SIZE);\n",
              "      const chunk = new Uint8Array(fileData, position, length);\n",
              "      position += length;\n",
              "\n",
              "      const base64 = btoa(String.fromCharCode.apply(null, chunk));\n",
              "      yield {\n",
              "        response: {\n",
              "          action: 'append',\n",
              "          file: file.name,\n",
              "          data: base64,\n",
              "        },\n",
              "      };\n",
              "\n",
              "      let percentDone = fileData.byteLength === 0 ?\n",
              "          100 :\n",
              "          Math.round((position / fileData.byteLength) * 100);\n",
              "      percent.textContent = `${percentDone}% done`;\n",
              "\n",
              "    } while (position < fileData.byteLength);\n",
              "  }\n",
              "\n",
              "  // All done.\n",
              "  yield {\n",
              "    response: {\n",
              "      action: 'complete',\n",
              "    }\n",
              "  };\n",
              "}\n",
              "\n",
              "scope.google = scope.google || {};\n",
              "scope.google.colab = scope.google.colab || {};\n",
              "scope.google.colab._files = {\n",
              "  _uploadFiles,\n",
              "  _uploadFilesContinue,\n",
              "};\n",
              "})(self);\n",
              "</script> "
            ]
          },
          "metadata": {}
        },
        {
          "output_type": "stream",
          "name": "stdout",
          "text": [
            "Saving Restaurant_Reviews.tsv to Restaurant_Reviews.tsv\n"
          ]
        }
      ]
    },
    {
      "cell_type": "code",
      "source": [
        "df = pd.read_csv('/content/Restaurant_Reviews.tsv',sep='\\t')\n",
        "df.head()"
      ],
      "metadata": {
        "colab": {
          "base_uri": "https://localhost:8080/",
          "height": 206
        },
        "id": "MpRpCYFoHqpo",
        "outputId": "d38ab655-e2b3-46af-ab96-899bd8a41196"
      },
      "execution_count": null,
      "outputs": [
        {
          "output_type": "execute_result",
          "data": {
            "text/plain": [
              "                                              Review  Liked\n",
              "0                           Wow... Loved this place.      1\n",
              "1                                 Crust is not good.      0\n",
              "2          Not tasty and the texture was just nasty.      0\n",
              "3  Stopped by during the late May bank holiday of...      1\n",
              "4  The selection on the menu was great and so wer...      1"
            ],
            "text/html": [
              "\n",
              "  <div id=\"df-e7ed0051-8c87-45f4-bf3c-ee60a7fa2c33\">\n",
              "    <div class=\"colab-df-container\">\n",
              "      <div>\n",
              "<style scoped>\n",
              "    .dataframe tbody tr th:only-of-type {\n",
              "        vertical-align: middle;\n",
              "    }\n",
              "\n",
              "    .dataframe tbody tr th {\n",
              "        vertical-align: top;\n",
              "    }\n",
              "\n",
              "    .dataframe thead th {\n",
              "        text-align: right;\n",
              "    }\n",
              "</style>\n",
              "<table border=\"1\" class=\"dataframe\">\n",
              "  <thead>\n",
              "    <tr style=\"text-align: right;\">\n",
              "      <th></th>\n",
              "      <th>Review</th>\n",
              "      <th>Liked</th>\n",
              "    </tr>\n",
              "  </thead>\n",
              "  <tbody>\n",
              "    <tr>\n",
              "      <th>0</th>\n",
              "      <td>Wow... Loved this place.</td>\n",
              "      <td>1</td>\n",
              "    </tr>\n",
              "    <tr>\n",
              "      <th>1</th>\n",
              "      <td>Crust is not good.</td>\n",
              "      <td>0</td>\n",
              "    </tr>\n",
              "    <tr>\n",
              "      <th>2</th>\n",
              "      <td>Not tasty and the texture was just nasty.</td>\n",
              "      <td>0</td>\n",
              "    </tr>\n",
              "    <tr>\n",
              "      <th>3</th>\n",
              "      <td>Stopped by during the late May bank holiday of...</td>\n",
              "      <td>1</td>\n",
              "    </tr>\n",
              "    <tr>\n",
              "      <th>4</th>\n",
              "      <td>The selection on the menu was great and so wer...</td>\n",
              "      <td>1</td>\n",
              "    </tr>\n",
              "  </tbody>\n",
              "</table>\n",
              "</div>\n",
              "      <button class=\"colab-df-convert\" onclick=\"convertToInteractive('df-e7ed0051-8c87-45f4-bf3c-ee60a7fa2c33')\"\n",
              "              title=\"Convert this dataframe to an interactive table.\"\n",
              "              style=\"display:none;\">\n",
              "        \n",
              "  <svg xmlns=\"http://www.w3.org/2000/svg\" height=\"24px\"viewBox=\"0 0 24 24\"\n",
              "       width=\"24px\">\n",
              "    <path d=\"M0 0h24v24H0V0z\" fill=\"none\"/>\n",
              "    <path d=\"M18.56 5.44l.94 2.06.94-2.06 2.06-.94-2.06-.94-.94-2.06-.94 2.06-2.06.94zm-11 1L8.5 8.5l.94-2.06 2.06-.94-2.06-.94L8.5 2.5l-.94 2.06-2.06.94zm10 10l.94 2.06.94-2.06 2.06-.94-2.06-.94-.94-2.06-.94 2.06-2.06.94z\"/><path d=\"M17.41 7.96l-1.37-1.37c-.4-.4-.92-.59-1.43-.59-.52 0-1.04.2-1.43.59L10.3 9.45l-7.72 7.72c-.78.78-.78 2.05 0 2.83L4 21.41c.39.39.9.59 1.41.59.51 0 1.02-.2 1.41-.59l7.78-7.78 2.81-2.81c.8-.78.8-2.07 0-2.86zM5.41 20L4 18.59l7.72-7.72 1.47 1.35L5.41 20z\"/>\n",
              "  </svg>\n",
              "      </button>\n",
              "      \n",
              "  <style>\n",
              "    .colab-df-container {\n",
              "      display:flex;\n",
              "      flex-wrap:wrap;\n",
              "      gap: 12px;\n",
              "    }\n",
              "\n",
              "    .colab-df-convert {\n",
              "      background-color: #E8F0FE;\n",
              "      border: none;\n",
              "      border-radius: 50%;\n",
              "      cursor: pointer;\n",
              "      display: none;\n",
              "      fill: #1967D2;\n",
              "      height: 32px;\n",
              "      padding: 0 0 0 0;\n",
              "      width: 32px;\n",
              "    }\n",
              "\n",
              "    .colab-df-convert:hover {\n",
              "      background-color: #E2EBFA;\n",
              "      box-shadow: 0px 1px 2px rgba(60, 64, 67, 0.3), 0px 1px 3px 1px rgba(60, 64, 67, 0.15);\n",
              "      fill: #174EA6;\n",
              "    }\n",
              "\n",
              "    [theme=dark] .colab-df-convert {\n",
              "      background-color: #3B4455;\n",
              "      fill: #D2E3FC;\n",
              "    }\n",
              "\n",
              "    [theme=dark] .colab-df-convert:hover {\n",
              "      background-color: #434B5C;\n",
              "      box-shadow: 0px 1px 3px 1px rgba(0, 0, 0, 0.15);\n",
              "      filter: drop-shadow(0px 1px 2px rgba(0, 0, 0, 0.3));\n",
              "      fill: #FFFFFF;\n",
              "    }\n",
              "  </style>\n",
              "\n",
              "      <script>\n",
              "        const buttonEl =\n",
              "          document.querySelector('#df-e7ed0051-8c87-45f4-bf3c-ee60a7fa2c33 button.colab-df-convert');\n",
              "        buttonEl.style.display =\n",
              "          google.colab.kernel.accessAllowed ? 'block' : 'none';\n",
              "\n",
              "        async function convertToInteractive(key) {\n",
              "          const element = document.querySelector('#df-e7ed0051-8c87-45f4-bf3c-ee60a7fa2c33');\n",
              "          const dataTable =\n",
              "            await google.colab.kernel.invokeFunction('convertToInteractive',\n",
              "                                                     [key], {});\n",
              "          if (!dataTable) return;\n",
              "\n",
              "          const docLinkHtml = 'Like what you see? Visit the ' +\n",
              "            '<a target=\"_blank\" href=https://colab.research.google.com/notebooks/data_table.ipynb>data table notebook</a>'\n",
              "            + ' to learn more about interactive tables.';\n",
              "          element.innerHTML = '';\n",
              "          dataTable['output_type'] = 'display_data';\n",
              "          await google.colab.output.renderOutput(dataTable, element);\n",
              "          const docLink = document.createElement('div');\n",
              "          docLink.innerHTML = docLinkHtml;\n",
              "          element.appendChild(docLink);\n",
              "        }\n",
              "      </script>\n",
              "    </div>\n",
              "  </div>\n",
              "  "
            ]
          },
          "metadata": {},
          "execution_count": 101
        }
      ]
    },
    {
      "cell_type": "code",
      "source": [
        "df.info()"
      ],
      "metadata": {
        "colab": {
          "base_uri": "https://localhost:8080/"
        },
        "id": "EJZf_khuHqsD",
        "outputId": "52b6cb64-df9b-487d-ed03-566a7eebcd36"
      },
      "execution_count": null,
      "outputs": [
        {
          "output_type": "stream",
          "name": "stdout",
          "text": [
            "<class 'pandas.core.frame.DataFrame'>\n",
            "RangeIndex: 1000 entries, 0 to 999\n",
            "Data columns (total 2 columns):\n",
            " #   Column  Non-Null Count  Dtype \n",
            "---  ------  --------------  ----- \n",
            " 0   Review  1000 non-null   object\n",
            " 1   Liked   1000 non-null   int64 \n",
            "dtypes: int64(1), object(1)\n",
            "memory usage: 15.8+ KB\n"
          ]
        }
      ]
    },
    {
      "cell_type": "code",
      "source": [
        "df.describe()"
      ],
      "metadata": {
        "colab": {
          "base_uri": "https://localhost:8080/",
          "height": 300
        },
        "id": "HEaXd6JtHquW",
        "outputId": "f5e67932-465e-437b-d0c6-c38b3bd348d9"
      },
      "execution_count": null,
      "outputs": [
        {
          "output_type": "execute_result",
          "data": {
            "text/plain": [
              "            Liked\n",
              "count  1000.00000\n",
              "mean      0.50000\n",
              "std       0.50025\n",
              "min       0.00000\n",
              "25%       0.00000\n",
              "50%       0.50000\n",
              "75%       1.00000\n",
              "max       1.00000"
            ],
            "text/html": [
              "\n",
              "  <div id=\"df-2dd34378-b2ee-4bea-b7fa-93aab989b447\">\n",
              "    <div class=\"colab-df-container\">\n",
              "      <div>\n",
              "<style scoped>\n",
              "    .dataframe tbody tr th:only-of-type {\n",
              "        vertical-align: middle;\n",
              "    }\n",
              "\n",
              "    .dataframe tbody tr th {\n",
              "        vertical-align: top;\n",
              "    }\n",
              "\n",
              "    .dataframe thead th {\n",
              "        text-align: right;\n",
              "    }\n",
              "</style>\n",
              "<table border=\"1\" class=\"dataframe\">\n",
              "  <thead>\n",
              "    <tr style=\"text-align: right;\">\n",
              "      <th></th>\n",
              "      <th>Liked</th>\n",
              "    </tr>\n",
              "  </thead>\n",
              "  <tbody>\n",
              "    <tr>\n",
              "      <th>count</th>\n",
              "      <td>1000.00000</td>\n",
              "    </tr>\n",
              "    <tr>\n",
              "      <th>mean</th>\n",
              "      <td>0.50000</td>\n",
              "    </tr>\n",
              "    <tr>\n",
              "      <th>std</th>\n",
              "      <td>0.50025</td>\n",
              "    </tr>\n",
              "    <tr>\n",
              "      <th>min</th>\n",
              "      <td>0.00000</td>\n",
              "    </tr>\n",
              "    <tr>\n",
              "      <th>25%</th>\n",
              "      <td>0.00000</td>\n",
              "    </tr>\n",
              "    <tr>\n",
              "      <th>50%</th>\n",
              "      <td>0.50000</td>\n",
              "    </tr>\n",
              "    <tr>\n",
              "      <th>75%</th>\n",
              "      <td>1.00000</td>\n",
              "    </tr>\n",
              "    <tr>\n",
              "      <th>max</th>\n",
              "      <td>1.00000</td>\n",
              "    </tr>\n",
              "  </tbody>\n",
              "</table>\n",
              "</div>\n",
              "      <button class=\"colab-df-convert\" onclick=\"convertToInteractive('df-2dd34378-b2ee-4bea-b7fa-93aab989b447')\"\n",
              "              title=\"Convert this dataframe to an interactive table.\"\n",
              "              style=\"display:none;\">\n",
              "        \n",
              "  <svg xmlns=\"http://www.w3.org/2000/svg\" height=\"24px\"viewBox=\"0 0 24 24\"\n",
              "       width=\"24px\">\n",
              "    <path d=\"M0 0h24v24H0V0z\" fill=\"none\"/>\n",
              "    <path d=\"M18.56 5.44l.94 2.06.94-2.06 2.06-.94-2.06-.94-.94-2.06-.94 2.06-2.06.94zm-11 1L8.5 8.5l.94-2.06 2.06-.94-2.06-.94L8.5 2.5l-.94 2.06-2.06.94zm10 10l.94 2.06.94-2.06 2.06-.94-2.06-.94-.94-2.06-.94 2.06-2.06.94z\"/><path d=\"M17.41 7.96l-1.37-1.37c-.4-.4-.92-.59-1.43-.59-.52 0-1.04.2-1.43.59L10.3 9.45l-7.72 7.72c-.78.78-.78 2.05 0 2.83L4 21.41c.39.39.9.59 1.41.59.51 0 1.02-.2 1.41-.59l7.78-7.78 2.81-2.81c.8-.78.8-2.07 0-2.86zM5.41 20L4 18.59l7.72-7.72 1.47 1.35L5.41 20z\"/>\n",
              "  </svg>\n",
              "      </button>\n",
              "      \n",
              "  <style>\n",
              "    .colab-df-container {\n",
              "      display:flex;\n",
              "      flex-wrap:wrap;\n",
              "      gap: 12px;\n",
              "    }\n",
              "\n",
              "    .colab-df-convert {\n",
              "      background-color: #E8F0FE;\n",
              "      border: none;\n",
              "      border-radius: 50%;\n",
              "      cursor: pointer;\n",
              "      display: none;\n",
              "      fill: #1967D2;\n",
              "      height: 32px;\n",
              "      padding: 0 0 0 0;\n",
              "      width: 32px;\n",
              "    }\n",
              "\n",
              "    .colab-df-convert:hover {\n",
              "      background-color: #E2EBFA;\n",
              "      box-shadow: 0px 1px 2px rgba(60, 64, 67, 0.3), 0px 1px 3px 1px rgba(60, 64, 67, 0.15);\n",
              "      fill: #174EA6;\n",
              "    }\n",
              "\n",
              "    [theme=dark] .colab-df-convert {\n",
              "      background-color: #3B4455;\n",
              "      fill: #D2E3FC;\n",
              "    }\n",
              "\n",
              "    [theme=dark] .colab-df-convert:hover {\n",
              "      background-color: #434B5C;\n",
              "      box-shadow: 0px 1px 3px 1px rgba(0, 0, 0, 0.15);\n",
              "      filter: drop-shadow(0px 1px 2px rgba(0, 0, 0, 0.3));\n",
              "      fill: #FFFFFF;\n",
              "    }\n",
              "  </style>\n",
              "\n",
              "      <script>\n",
              "        const buttonEl =\n",
              "          document.querySelector('#df-2dd34378-b2ee-4bea-b7fa-93aab989b447 button.colab-df-convert');\n",
              "        buttonEl.style.display =\n",
              "          google.colab.kernel.accessAllowed ? 'block' : 'none';\n",
              "\n",
              "        async function convertToInteractive(key) {\n",
              "          const element = document.querySelector('#df-2dd34378-b2ee-4bea-b7fa-93aab989b447');\n",
              "          const dataTable =\n",
              "            await google.colab.kernel.invokeFunction('convertToInteractive',\n",
              "                                                     [key], {});\n",
              "          if (!dataTable) return;\n",
              "\n",
              "          const docLinkHtml = 'Like what you see? Visit the ' +\n",
              "            '<a target=\"_blank\" href=https://colab.research.google.com/notebooks/data_table.ipynb>data table notebook</a>'\n",
              "            + ' to learn more about interactive tables.';\n",
              "          element.innerHTML = '';\n",
              "          dataTable['output_type'] = 'display_data';\n",
              "          await google.colab.output.renderOutput(dataTable, element);\n",
              "          const docLink = document.createElement('div');\n",
              "          docLink.innerHTML = docLinkHtml;\n",
              "          element.appendChild(docLink);\n",
              "        }\n",
              "      </script>\n",
              "    </div>\n",
              "  </div>\n",
              "  "
            ]
          },
          "metadata": {},
          "execution_count": 104
        }
      ]
    },
    {
      "cell_type": "code",
      "source": [
        "df.isnull().sum()"
      ],
      "metadata": {
        "colab": {
          "base_uri": "https://localhost:8080/"
        },
        "id": "tKif6z2SHqwt",
        "outputId": "c9d921ff-5bac-47e0-bc6c-33109c3d78d8"
      },
      "execution_count": null,
      "outputs": [
        {
          "output_type": "execute_result",
          "data": {
            "text/plain": [
              "Review    0\n",
              "Liked     0\n",
              "dtype: int64"
            ]
          },
          "metadata": {},
          "execution_count": 105
        }
      ]
    },
    {
      "cell_type": "code",
      "source": [
        "#check imbalance dataset - \n",
        "df['Liked'].value_counts()/(len(df))*100"
      ],
      "metadata": {
        "colab": {
          "base_uri": "https://localhost:8080/"
        },
        "id": "ppYCy6GpHqy2",
        "outputId": "bbc34037-0c84-46e6-ff01-f34a8d151a28"
      },
      "execution_count": null,
      "outputs": [
        {
          "output_type": "execute_result",
          "data": {
            "text/plain": [
              "1    50.0\n",
              "0    50.0\n",
              "Name: Liked, dtype: float64"
            ]
          },
          "metadata": {},
          "execution_count": 107
        }
      ]
    },
    {
      "cell_type": "code",
      "source": [
        "# Visualization by using ham and spam\n",
        "plt.hist(df[df['Liked']==1],bins=100,alpha=0.7)\n",
        "plt.hist(df[df['Liked']==0],bins=100,alpha=0.7)\n",
        "plt.show()"
      ],
      "metadata": {
        "colab": {
          "base_uri": "https://localhost:8080/",
          "height": 405
        },
        "id": "agOpkvW4Hq1B",
        "outputId": "ddbbe220-5b66-4e1a-c517-a311d1bbd33b"
      },
      "execution_count": null,
      "outputs": [
        {
          "output_type": "display_data",
          "data": {
            "text/plain": [
              "<Figure size 640x480 with 1 Axes>"
            ],
            "image/png": "[encoded data removed]"
          },
          "metadata": {}
        }
      ]
    },
    {
      "cell_type": "code",
      "source": [
        "from sklearn.model_selection import train_test_split\n",
        "x_train,x_test,y_train,y_test = train_test_split(df['Review'],df['Liked'],test_size=0.3,random_state=101)"
      ],
      "metadata": {
        "id": "i5qr2yLVRHY-"
      },
      "execution_count": null,
      "outputs": []
    },
    {
      "cell_type": "code",
      "source": [
        "print(x_train.shape,x_test.shape,y_train.shape,y_test.shape)"
      ],
      "metadata": {
        "colab": {
          "base_uri": "https://localhost:8080/"
        },
        "id": "cq5r9YscRHeI",
        "outputId": "4ebaf5b5-1cf5-4224-c961-42713107bb86"
      },
      "execution_count": null,
      "outputs": [
        {
          "output_type": "stream",
          "name": "stdout",
          "text": [
            "(700,) (300,) (700,) (300,)\n"
          ]
        }
      ]
    },
    {
      "cell_type": "code",
      "source": [
        "from sklearn.feature_extraction.text import TfidfVectorizer\n",
        "from sklearn.ensemble import RandomForestClassifier\n",
        "#pipeline package to merge nlp and ml together -\n",
        "from sklearn.pipeline import Pipeline"
      ],
      "metadata": {
        "id": "2cQrfTecRx4J"
      },
      "execution_count": null,
      "outputs": []
    },
    {
      "cell_type": "code",
      "source": [
        "cls = Pipeline([('tfidf',TfidfVectorizer()),('classifier',RandomForestClassifier())])"
      ],
      "metadata": {
        "id": "4_QjDgW9Rx6d"
      },
      "execution_count": null,
      "outputs": []
    },
    {
      "cell_type": "code",
      "source": [
        "cls.fit(x_train,y_train)"
      ],
      "metadata": {
        "colab": {
          "base_uri": "https://localhost:8080/",
          "height": 125
        },
        "id": "U7xxO54nRx8C",
        "outputId": "362df08e-447e-403b-81d8-f037968b4e01"
      },
      "execution_count": null,
      "outputs": [
        {
          "output_type": "execute_result",
          "data": {
            "text/plain": [
              "Pipeline(steps=[('tfidf', TfidfVectorizer()),\n",
              "                ('classifier', RandomForestClassifier())])"
            ],
            "text/html": [
              "<style>#sk-container-id-5 {color: black;background-color: white;}#sk-container-id-5 pre{padding: 0;}#sk-container-id-5 div.sk-toggleable {background-color: white;}#sk-container-id-5 label.sk-toggleable__label {cursor: pointer;display: block;width: 100%;margin-bottom: 0;padding: 0.3em;box-sizing: border-box;text-align: center;}#sk-container-id-5 label.sk-toggleable__label-arrow:before {content: \"▸\";float: left;margin-right: 0.25em;color: #696969;}#sk-container-id-5 label.sk-toggleable__label-arrow:hover:before {color: black;}#sk-container-id-5 div.sk-estimator:hover label.sk-toggleable__label-arrow:before {color: black;}#sk-container-id-5 div.sk-toggleable__content {max-height: 0;max-width: 0;overflow: hidden;text-align: left;background-color: #f0f8ff;}#sk-container-id-5 div.sk-toggleable__content pre {margin: 0.2em;color: black;border-radius: 0.25em;background-color: #f0f8ff;}#sk-container-id-5 input.sk-toggleable__control:checked~div.sk-toggleable__content {max-height: 200px;max-width: 100%;overflow: auto;}#sk-container-id-5 input.sk-toggleable__control:checked~label.sk-toggleable__label-arrow:before {content: \"▾\";}#sk-container-id-5 div.sk-estimator input.sk-toggleable__control:checked~label.sk-toggleable__label {background-color: #d4ebff;}#sk-container-id-5 div.sk-label input.sk-toggleable__control:checked~label.sk-toggleable__label {background-color: #d4ebff;}#sk-container-id-5 input.sk-hidden--visually {border: 0;clip: rect(1px 1px 1px 1px);clip: rect(1px, 1px, 1px, 1px);height: 1px;margin: -1px;overflow: hidden;padding: 0;position: absolute;width: 1px;}#sk-container-id-5 div.sk-estimator {font-family: monospace;background-color: #f0f8ff;border: 1px dotted black;border-radius: 0.25em;box-sizing: border-box;margin-bottom: 0.5em;}#sk-container-id-5 div.sk-estimator:hover {background-color: #d4ebff;}#sk-container-id-5 div.sk-parallel-item::after {content: \"\";width: 100%;border-bottom: 1px solid gray;flex-grow: 1;}#sk-container-id-5 div.sk-label:hover label.sk-toggleable__label {background-color: #d4ebff;}#sk-container-id-5 div.sk-serial::before {content: \"\";position: absolute;border-left: 1px solid gray;box-sizing: border-box;top: 0;bottom: 0;left: 50%;z-index: 0;}#sk-container-id-5 div.sk-serial {display: flex;flex-direction: column;align-items: center;background-color: white;padding-right: 0.2em;padding-left: 0.2em;position: relative;}#sk-container-id-5 div.sk-item {position: relative;z-index: 1;}#sk-container-id-5 div.sk-parallel {display: flex;align-items: stretch;justify-content: center;background-color: white;position: relative;}#sk-container-id-5 div.sk-item::before, #sk-container-id-5 div.sk-parallel-item::before {content: \"\";position: absolute;border-left: 1px solid gray;box-sizing: border-box;top: 0;bottom: 0;left: 50%;z-index: -1;}#sk-container-id-5 div.sk-parallel-item {display: flex;flex-direction: column;z-index: 1;position: relative;background-color: white;}#sk-container-id-5 div.sk-parallel-item:first-child::after {align-self: flex-end;width: 50%;}#sk-container-id-5 div.sk-parallel-item:last-child::after {align-self: flex-start;width: 50%;}#sk-container-id-5 div.sk-parallel-item:only-child::after {width: 0;}#sk-container-id-5 div.sk-dashed-wrapped {border: 1px dashed gray;margin: 0 0.4em 0.5em 0.4em;box-sizing: border-box;padding-bottom: 0.4em;background-color: white;}#sk-container-id-5 div.sk-label label {font-family: monospace;font-weight: bold;display: inline-block;line-height: 1.2em;}#sk-container-id-5 div.sk-label-container {text-align: center;}#sk-container-id-5 div.sk-container {/* jupyter's `normalize.less` sets `[hidden] { display: none; }` but bootstrap.min.css set `[hidden] { display: none !important; }` so we also need the `!important` here to be able to override the default hidden behavior on the sphinx rendered scikit-learn.org. See: https://github.com/scikit-learn/scikit-learn/issues/21755 */display: inline-block !important;position: relative;}#sk-container-id-5 div.sk-text-repr-fallback {display: none;}</style><div id=\"sk-container-id-5\" class=\"sk-top-container\"><div class=\"sk-text-repr-fallback\"><pre>Pipeline(steps=[(&#x27;tfidf&#x27;, TfidfVectorizer()),\n",
              "                (&#x27;classifier&#x27;, RandomForestClassifier())])</pre><b>In a Jupyter environment, please rerun this cell to show the HTML representation or trust the notebook. <br />On GitHub, the HTML representation is unable to render, please try loading this page with nbviewer.org.</b></div><div class=\"sk-container\" hidden><div class=\"sk-item sk-dashed-wrapped\"><div class=\"sk-label-container\"><div class=\"sk-label sk-toggleable\"><input class=\"sk-toggleable__control sk-hidden--visually\" id=\"sk-estimator-id-13\" type=\"checkbox\" ><label for=\"sk-estimator-id-13\" class=\"sk-toggleable__label sk-toggleable__label-arrow\">Pipeline</label><div class=\"sk-toggleable__content\"><pre>Pipeline(steps=[(&#x27;tfidf&#x27;, TfidfVectorizer()),\n",
              "                (&#x27;classifier&#x27;, RandomForestClassifier())])</pre></div></div></div><div class=\"sk-serial\"><div class=\"sk-item\"><div class=\"sk-estimator sk-toggleable\"><input class=\"sk-toggleable__control sk-hidden--visually\" id=\"sk-estimator-id-14\" type=\"checkbox\" ><label for=\"sk-estimator-id-14\" class=\"sk-toggleable__label sk-toggleable__label-arrow\">TfidfVectorizer</label><div class=\"sk-toggleable__content\"><pre>TfidfVectorizer()</pre></div></div></div><div class=\"sk-item\"><div class=\"sk-estimator sk-toggleable\"><input class=\"sk-toggleable__control sk-hidden--visually\" id=\"sk-estimator-id-15\" type=\"checkbox\" ><label for=\"sk-estimator-id-15\" class=\"sk-toggleable__label sk-toggleable__label-arrow\">RandomForestClassifier</label><div class=\"sk-toggleable__content\"><pre>RandomForestClassifier()</pre></div></div></div></div></div></div></div>"
            ]
          },
          "metadata": {},
          "execution_count": 171
        }
      ]
    },
    {
      "cell_type": "code",
      "source": [
        "y_pred_train = cls.predict(x_train)\n",
        "y_pred_test = cls.predict(x_test)"
      ],
      "metadata": {
        "id": "_cv5FolcRx-Y"
      },
      "execution_count": null,
      "outputs": []
    },
    {
      "cell_type": "code",
      "source": [
        "y_pred_train"
      ],
      "metadata": {
        "colab": {
          "base_uri": "https://localhost:8080/"
        },
        "id": "Qm_f45L0TMZ1",
        "outputId": "832cca8b-a1c8-45be-d256-1879f593b40c"
      },
      "execution_count": null,
      "outputs": [
        {
          "output_type": "execute_result",
          "data": {
            "text/plain": [
              "array([0, 0, 1, 1, 0, 0, 1, 0, 1, 0, 1, 0, 0, 1, 1, 1, 0, 1, 1, 0, 0, 1,\n",
              "       0, 0, 1, 0, 1, 0, 1, 0, 1, 1, 1, 0, 0, 1, 1, 0, 1, 1, 1, 0, 0, 1,\n",
              "       1, 1, 1, 0, 0, 0, 1, 0, 1, 0, 0, 0, 1, 0, 1, 0, 0, 0, 0, 1, 1, 0,\n",
              "       1, 0, 1, 1, 0, 1, 0, 1, 1, 1, 1, 0, 1, 0, 0, 1, 1, 0, 1, 1, 1, 1,\n",
              "       1, 1, 0, 0, 1, 0, 0, 0, 0, 1, 1, 0, 0, 0, 0, 1, 1, 1, 0, 1, 0, 0,\n",
              "       1, 1, 1, 0, 0, 0, 0, 1, 1, 1, 0, 0, 0, 1, 0, 0, 1, 0, 0, 0, 1, 1,\n",
              "       0, 1, 1, 0, 1, 1, 0, 1, 1, 1, 0, 0, 0, 1, 0, 0, 1, 1, 1, 0, 0, 0,\n",
              "       0, 0, 0, 0, 1, 0, 1, 1, 1, 1, 0, 1, 0, 1, 1, 0, 1, 0, 0, 0, 1, 0,\n",
              "       0, 0, 1, 1, 1, 1, 1, 1, 1, 0, 1, 1, 0, 0, 1, 0, 0, 1, 1, 0, 0, 0,\n",
              "       0, 0, 0, 1, 1, 0, 1, 0, 0, 1, 0, 0, 1, 1, 0, 1, 1, 1, 0, 1, 1, 0,\n",
              "       0, 0, 0, 0, 1, 0, 1, 0, 1, 0, 1, 1, 1, 1, 0, 1, 0, 0, 0, 0, 1, 1,\n",
              "       1, 1, 0, 1, 0, 0, 0, 1, 0, 0, 1, 0, 1, 1, 1, 1, 1, 0, 1, 1, 1, 1,\n",
              "       0, 0, 1, 0, 1, 0, 1, 1, 0, 0, 1, 1, 0, 0, 1, 0, 1, 0, 1, 0, 0, 0,\n",
              "       0, 0, 1, 1, 1, 0, 1, 0, 1, 1, 1, 0, 0, 1, 0, 0, 0, 0, 0, 0, 1, 0,\n",
              "       1, 0, 0, 0, 0, 1, 0, 1, 1, 1, 0, 0, 0, 1, 1, 1, 1, 1, 0, 0, 0, 0,\n",
              "       1, 0, 0, 0, 0, 0, 0, 1, 1, 1, 0, 1, 0, 0, 1, 1, 0, 0, 0, 1, 0, 1,\n",
              "       1, 0, 0, 0, 1, 1, 1, 0, 1, 1, 0, 1, 1, 1, 0, 1, 1, 1, 1, 1, 0, 1,\n",
              "       1, 0, 1, 1, 0, 1, 0, 1, 1, 0, 0, 1, 1, 0, 1, 0, 1, 0, 1, 0, 0, 0,\n",
              "       0, 1, 0, 1, 0, 1, 1, 0, 0, 0, 1, 1, 0, 1, 0, 0, 1, 1, 0, 1, 0, 1,\n",
              "       0, 1, 1, 0, 1, 0, 0, 1, 1, 0, 1, 1, 1, 0, 1, 1, 1, 1, 1, 1, 0, 0,\n",
              "       1, 1, 0, 1, 1, 1, 0, 0, 1, 0, 0, 1, 0, 0, 0, 0, 0, 1, 0, 0, 0, 1,\n",
              "       0, 0, 1, 0, 1, 0, 1, 1, 0, 1, 0, 0, 1, 1, 1, 1, 0, 1, 0, 1, 0, 1,\n",
              "       1, 0, 0, 1, 0, 1, 0, 0, 1, 1, 1, 1, 0, 0, 0, 1, 1, 0, 1, 0, 1, 1,\n",
              "       1, 1, 1, 0, 0, 1, 0, 1, 1, 0, 0, 1, 1, 0, 0, 1, 0, 1, 1, 1, 0, 1,\n",
              "       1, 1, 1, 1, 0, 1, 0, 0, 1, 0, 0, 1, 0, 0, 0, 1, 0, 0, 1, 1, 0, 0,\n",
              "       0, 0, 1, 0, 1, 1, 1, 0, 0, 1, 1, 0, 1, 0, 0, 1, 1, 1, 1, 0, 1, 0,\n",
              "       1, 1, 0, 1, 1, 1, 0, 0, 0, 0, 1, 0, 0, 0, 0, 1, 1, 0, 1, 1, 1, 0,\n",
              "       0, 0, 0, 0, 1, 0, 1, 1, 0, 1, 1, 0, 0, 0, 0, 0, 1, 1, 0, 1, 1, 1,\n",
              "       1, 1, 0, 1, 0, 0, 1, 1, 0, 1, 1, 1, 0, 1, 0, 1, 1, 0, 0, 1, 0, 0,\n",
              "       0, 0, 1, 1, 1, 0, 1, 0, 1, 0, 1, 1, 1, 1, 1, 1, 1, 1, 1, 1, 1, 0,\n",
              "       0, 0, 0, 0, 0, 0, 0, 0, 1, 0, 0, 0, 0, 1, 0, 0, 0, 1, 1, 1, 0, 0,\n",
              "       0, 1, 1, 0, 1, 0, 0, 0, 1, 0, 1, 0, 0, 0, 0, 0, 0, 1])"
            ]
          },
          "metadata": {},
          "execution_count": 173
        }
      ]
    },
    {
      "cell_type": "code",
      "source": [
        "y_pred_test"
      ],
      "metadata": {
        "colab": {
          "base_uri": "https://localhost:8080/"
        },
        "id": "T41EdFJbTMcR",
        "outputId": "9ce2ea85-57c7-4505-897c-5cab99dede18"
      },
      "execution_count": null,
      "outputs": [
        {
          "output_type": "execute_result",
          "data": {
            "text/plain": [
              "array([1, 0, 1, 0, 0, 1, 0, 1, 0, 1, 0, 1, 0, 1, 0, 1, 1, 1, 0, 0, 0, 1,\n",
              "       0, 1, 1, 1, 1, 1, 0, 1, 1, 1, 1, 0, 1, 0, 1, 0, 1, 1, 1, 1, 1, 0,\n",
              "       0, 1, 0, 0, 1, 0, 0, 0, 1, 0, 0, 1, 1, 0, 1, 0, 1, 0, 0, 1, 0, 0,\n",
              "       1, 1, 0, 0, 1, 0, 0, 1, 1, 1, 0, 1, 1, 1, 0, 1, 1, 0, 0, 0, 0, 0,\n",
              "       1, 0, 1, 0, 1, 1, 1, 1, 1, 0, 1, 0, 0, 1, 0, 1, 1, 0, 0, 0, 1, 0,\n",
              "       0, 1, 0, 0, 0, 1, 0, 1, 0, 0, 1, 0, 1, 1, 0, 0, 0, 1, 1, 1, 1, 0,\n",
              "       1, 1, 1, 1, 1, 0, 1, 0, 0, 1, 0, 0, 0, 0, 1, 0, 1, 0, 1, 1, 1, 0,\n",
              "       0, 0, 1, 1, 1, 0, 1, 1, 0, 0, 0, 1, 1, 1, 1, 1, 0, 1, 1, 0, 1, 1,\n",
              "       0, 1, 0, 0, 1, 1, 0, 0, 1, 1, 0, 1, 0, 1, 0, 0, 0, 0, 0, 1, 1, 1,\n",
              "       1, 1, 0, 1, 0, 1, 0, 0, 0, 0, 1, 0, 1, 1, 1, 1, 0, 0, 1, 1, 0, 0,\n",
              "       1, 1, 0, 0, 0, 1, 1, 0, 0, 1, 0, 0, 0, 0, 0, 1, 0, 0, 1, 0, 1, 1,\n",
              "       0, 1, 0, 0, 1, 0, 1, 0, 0, 1, 0, 0, 0, 0, 0, 0, 0, 1, 0, 1, 1, 0,\n",
              "       1, 1, 1, 0, 1, 1, 1, 1, 0, 1, 1, 0, 1, 1, 0, 0, 1, 1, 1, 0, 1, 0,\n",
              "       1, 0, 1, 1, 1, 1, 1, 0, 1, 1, 1, 0, 1, 0])"
            ]
          },
          "metadata": {},
          "execution_count": 174
        }
      ]
    },
    {
      "cell_type": "code",
      "source": [
        "print(classification_report(y_train,y_pred_train))\n",
        "print('****'*2)\n",
        "print(classification_report(y_test,y_pred_test))"
      ],
      "metadata": {
        "colab": {
          "base_uri": "https://localhost:8080/"
        },
        "id": "kcp0lw4eRHi9",
        "outputId": "72459a96-024a-419d-e365-4c7760a31bed"
      },
      "execution_count": null,
      "outputs": [
        {
          "output_type": "stream",
          "name": "stdout",
          "text": [
            "              precision    recall  f1-score   support\n",
            "\n",
            "           0       1.00      1.00      1.00       350\n",
            "           1       1.00      1.00      1.00       350\n",
            "\n",
            "    accuracy                           1.00       700\n",
            "   macro avg       1.00      1.00      1.00       700\n",
            "weighted avg       1.00      1.00      1.00       700\n",
            "\n",
            "********\n",
            "              precision    recall  f1-score   support\n",
            "\n",
            "           0       0.78      0.75      0.76       150\n",
            "           1       0.76      0.79      0.77       150\n",
            "\n",
            "    accuracy                           0.77       300\n",
            "   macro avg       0.77      0.77      0.77       300\n",
            "weighted avg       0.77      0.77      0.77       300\n",
            "\n"
          ]
        }
      ]
    },
    {
      "cell_type": "code",
      "source": [
        "t1 = ['place was good but food was bad']\n",
        "t2 = ['service was fine but crowd was poor']\n",
        "t3 = ['manager was amazing']\n",
        "t4 = ['food is good but prices are damn too high and it is not worth it']\n",
        "t5 = ['best place to eat']\n",
        "t6 = ['best place ']"
      ],
      "metadata": {
        "id": "2zX-XpTxLHwH"
      },
      "execution_count": null,
      "outputs": []
    },
    {
      "cell_type": "code",
      "source": [
        "# \n",
        "print(cls.predict(t1))\n",
        "print(cls.predict(t2))\n",
        "print(cls.predict(t3))\n",
        "print(cls.predict(t4))\n",
        "print(cls.predict(t5))\n",
        "print(cls.predict(t6))"
      ],
      "metadata": {
        "colab": {
          "base_uri": "https://localhost:8080/"
        },
        "id": "HrNO0oReJwaJ",
        "outputId": "9c7cb59c-c54d-4f1e-b0c8-630692ca3304"
      },
      "execution_count": null,
      "outputs": [
        {
          "output_type": "stream",
          "name": "stdout",
          "text": [
            "[1]\n",
            "[0]\n",
            "[1]\n",
            "[0]\n",
            "[1]\n",
            "[1]\n"
          ]
        }
      ]
    },
    {
      "cell_type": "code",
      "source": [
        "df.head()"
      ],
      "metadata": {
        "colab": {
          "base_uri": "https://localhost:8080/",
          "height": 206
        },
        "id": "JJ2JhZhyJwcF",
        "outputId": "e872f6c2-9606-48ee-f741-1965afb036bc"
      },
      "execution_count": null,
      "outputs": [
        {
          "output_type": "execute_result",
          "data": {
            "text/plain": [
              "                                              Review  Liked\n",
              "0                           Wow... Loved this place.      1\n",
              "1                                 Crust is not good.      0\n",
              "2          Not tasty and the texture was just nasty.      0\n",
              "3  Stopped by during the late May bank holiday of...      1\n",
              "4  The selection on the menu was great and so wer...      1"
            ],
            "text/html": [
              "\n",
              "  <div id=\"df-545b93d8-555a-4e00-bd66-9942b4299f96\">\n",
              "    <div class=\"colab-df-container\">\n",
              "      <div>\n",
              "<style scoped>\n",
              "    .dataframe tbody tr th:only-of-type {\n",
              "        vertical-align: middle;\n",
              "    }\n",
              "\n",
              "    .dataframe tbody tr th {\n",
              "        vertical-align: top;\n",
              "    }\n",
              "\n",
              "    .dataframe thead th {\n",
              "        text-align: right;\n",
              "    }\n",
              "</style>\n",
              "<table border=\"1\" class=\"dataframe\">\n",
              "  <thead>\n",
              "    <tr style=\"text-align: right;\">\n",
              "      <th></th>\n",
              "      <th>Review</th>\n",
              "      <th>Liked</th>\n",
              "    </tr>\n",
              "  </thead>\n",
              "  <tbody>\n",
              "    <tr>\n",
              "      <th>0</th>\n",
              "      <td>Wow... Loved this place.</td>\n",
              "      <td>1</td>\n",
              "    </tr>\n",
              "    <tr>\n",
              "      <th>1</th>\n",
              "      <td>Crust is not good.</td>\n",
              "      <td>0</td>\n",
              "    </tr>\n",
              "    <tr>\n",
              "      <th>2</th>\n",
              "      <td>Not tasty and the texture was just nasty.</td>\n",
              "      <td>0</td>\n",
              "    </tr>\n",
              "    <tr>\n",
              "      <th>3</th>\n",
              "      <td>Stopped by during the late May bank holiday of...</td>\n",
              "      <td>1</td>\n",
              "    </tr>\n",
              "    <tr>\n",
              "      <th>4</th>\n",
              "      <td>The selection on the menu was great and so wer...</td>\n",
              "      <td>1</td>\n",
              "    </tr>\n",
              "  </tbody>\n",
              "</table>\n",
              "</div>\n",
              "      <button class=\"colab-df-convert\" onclick=\"convertToInteractive('df-545b93d8-555a-4e00-bd66-9942b4299f96')\"\n",
              "              title=\"Convert this dataframe to an interactive table.\"\n",
              "              style=\"display:none;\">\n",
              "        \n",
              "  <svg xmlns=\"http://www.w3.org/2000/svg\" height=\"24px\"viewBox=\"0 0 24 24\"\n",
              "       width=\"24px\">\n",
              "    <path d=\"M0 0h24v24H0V0z\" fill=\"none\"/>\n",
              "    <path d=\"M18.56 5.44l.94 2.06.94-2.06 2.06-.94-2.06-.94-.94-2.06-.94 2.06-2.06.94zm-11 1L8.5 8.5l.94-2.06 2.06-.94-2.06-.94L8.5 2.5l-.94 2.06-2.06.94zm10 10l.94 2.06.94-2.06 2.06-.94-2.06-.94-.94-2.06-.94 2.06-2.06.94z\"/><path d=\"M17.41 7.96l-1.37-1.37c-.4-.4-.92-.59-1.43-.59-.52 0-1.04.2-1.43.59L10.3 9.45l-7.72 7.72c-.78.78-.78 2.05 0 2.83L4 21.41c.39.39.9.59 1.41.59.51 0 1.02-.2 1.41-.59l7.78-7.78 2.81-2.81c.8-.78.8-2.07 0-2.86zM5.41 20L4 18.59l7.72-7.72 1.47 1.35L5.41 20z\"/>\n",
              "  </svg>\n",
              "      </button>\n",
              "      \n",
              "  <style>\n",
              "    .colab-df-container {\n",
              "      display:flex;\n",
              "      flex-wrap:wrap;\n",
              "      gap: 12px;\n",
              "    }\n",
              "\n",
              "    .colab-df-convert {\n",
              "      background-color: #E8F0FE;\n",
              "      border: none;\n",
              "      border-radius: 50%;\n",
              "      cursor: pointer;\n",
              "      display: none;\n",
              "      fill: #1967D2;\n",
              "      height: 32px;\n",
              "      padding: 0 0 0 0;\n",
              "      width: 32px;\n",
              "    }\n",
              "\n",
              "    .colab-df-convert:hover {\n",
              "      background-color: #E2EBFA;\n",
              "      box-shadow: 0px 1px 2px rgba(60, 64, 67, 0.3), 0px 1px 3px 1px rgba(60, 64, 67, 0.15);\n",
              "      fill: #174EA6;\n",
              "    }\n",
              "\n",
              "    [theme=dark] .colab-df-convert {\n",
              "      background-color: #3B4455;\n",
              "      fill: #D2E3FC;\n",
              "    }\n",
              "\n",
              "    [theme=dark] .colab-df-convert:hover {\n",
              "      background-color: #434B5C;\n",
              "      box-shadow: 0px 1px 3px 1px rgba(0, 0, 0, 0.15);\n",
              "      filter: drop-shadow(0px 1px 2px rgba(0, 0, 0, 0.3));\n",
              "      fill: #FFFFFF;\n",
              "    }\n",
              "  </style>\n",
              "\n",
              "      <script>\n",
              "        const buttonEl =\n",
              "          document.querySelector('#df-545b93d8-555a-4e00-bd66-9942b4299f96 button.colab-df-convert');\n",
              "        buttonEl.style.display =\n",
              "          google.colab.kernel.accessAllowed ? 'block' : 'none';\n",
              "\n",
              "        async function convertToInteractive(key) {\n",
              "          const element = document.querySelector('#df-545b93d8-555a-4e00-bd66-9942b4299f96');\n",
              "          const dataTable =\n",
              "            await google.colab.kernel.invokeFunction('convertToInteractive',\n",
              "                                                     [key], {});\n",
              "          if (!dataTable) return;\n",
              "\n",
              "          const docLinkHtml = 'Like what you see? Visit the ' +\n",
              "            '<a target=\"_blank\" href=https://colab.research.google.com/notebooks/data_table.ipynb>data table notebook</a>'\n",
              "            + ' to learn more about interactive tables.';\n",
              "          element.innerHTML = '';\n",
              "          dataTable['output_type'] = 'display_data';\n",
              "          await google.colab.output.renderOutput(dataTable, element);\n",
              "          const docLink = document.createElement('div');\n",
              "          docLink.innerHTML = docLinkHtml;\n",
              "          element.appendChild(docLink);\n",
              "        }\n",
              "      </script>\n",
              "    </div>\n",
              "  </div>\n",
              "  "
            ]
          },
          "metadata": {},
          "execution_count": 177
        }
      ]
    }
  ]
}